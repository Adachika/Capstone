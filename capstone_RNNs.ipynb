{
  "nbformat": 4,
  "nbformat_minor": 0,
  "metadata": {
    "colab": {
      "name": "capstone_RNNs.ipynb",
      "provenance": [],
      "collapsed_sections": [],
      "include_colab_link": true
    },
    "kernelspec": {
      "name": "python3",
      "display_name": "Python 3"
    },
    "language_info": {
      "name": "python"
    }
  },
  "cells": [
    {
      "cell_type": "markdown",
      "metadata": {
        "id": "view-in-github",
        "colab_type": "text"
      },
      "source": [
        "<a href=\"https://colab.research.google.com/github/Adachika/Capstone/blob/main/capstone_RNNs.ipynb\" target=\"_parent\"><img src=\"https://colab.research.google.com/assets/colab-badge.svg\" alt=\"Open In Colab\"/></a>"
      ]
    },
    {
      "cell_type": "code",
      "execution_count": null,
      "metadata": {
        "id": "kIAFqcYwx6rv"
      },
      "outputs": [],
      "source": [
        "import scipy\n",
        "import tensorflow as tf\n",
        "from tensorflow import keras\n",
        "from keras import Sequential, layers, callbacks\n",
        "from keras.layers import Dense, LSTM, Dropout, GRU, Bidirectional\n",
        "import pandas as pd\n",
        "import numpy as np\n",
        "\n",
        "from sklearn.preprocessing import MinMaxScaler\n",
        "from sklearn.model_selection import train_test_split\n",
        "\n",
        "from matplotlib import pyplot as plt\n",
        "from IPython.core.pylabtools import figsize\n",
        "\n",
        "from pandas.plotting import register_matplotlib_converters\n",
        "register_matplotlib_converters()\n",
        "import seaborn as sns"
      ]
    },
    {
      "cell_type": "code",
      "source": [
        "# Set random seed for reproducibility\n",
        "tf.random.set_seed(1234)"
      ],
      "metadata": {
        "id": "fPSTQ9_G9Z2m"
      },
      "execution_count": null,
      "outputs": []
    },
    {
      "cell_type": "code",
      "source": [
        "from google.colab import drive\n",
        "drive.mount('/content/drive')"
      ],
      "metadata": {
        "colab": {
          "base_uri": "https://localhost:8080/"
        },
        "id": "jtaFscdWy_fW",
        "outputId": "8814d58d-4f9c-4a24-86b8-d087be95f7d5"
      },
      "execution_count": null,
      "outputs": [
        {
          "output_type": "stream",
          "name": "stdout",
          "text": [
            "Drive already mounted at /content/drive; to attempt to forcibly remount, call drive.mount(\"/content/drive\", force_remount=True).\n"
          ]
        }
      ]
    },
    {
      "cell_type": "markdown",
      "source": [
        "Data Exploration"
      ],
      "metadata": {
        "id": "BgsKlKX31DTh"
      }
    },
    {
      "cell_type": "code",
      "source": [
        "df = pd.read_csv('drive/My Drive/Colab Notebooks/data2.csv', skipinitialspace = True)"
      ],
      "metadata": {
        "id": "3cWhkPFtzDoW"
      },
      "execution_count": null,
      "outputs": []
    },
    {
      "cell_type": "code",
      "source": [
        "df.head()"
      ],
      "metadata": {
        "colab": {
          "base_uri": "https://localhost:8080/",
          "height": 206
        },
        "id": "a66Nls5q0F4X",
        "outputId": "9ec98086-6f6f-4bba-939d-5fac8731e07a"
      },
      "execution_count": null,
      "outputs": [
        {
          "output_type": "execute_result",
          "data": {
            "text/plain": [
              "   Year  Month  time index       FFR      GDP         MS       UI   Gas Price  \\\n",
              "0   1991   Jan           1  1.545946 -1.589107 -1.150451  0.383277      1.000   \n",
              "1   1991   Feb           2  1.488320 -1.589107 -1.145532  0.509800      1.094   \n",
              "2   1991   Mar           3  1.395232 -1.566827 -1.141280  0.446539      1.040   \n",
              "3   1991   Apr           4  1.337606 -1.566827 -1.137917  0.573061      1.076   \n",
              "4   1991   May           5  1.390799 -1.566827 -1.135981  0.573061      1.126   \n",
              "\n",
              "   S&P 500  \n",
              "0    343.9  \n",
              "1    367.1  \n",
              "2    375.2  \n",
              "3    375.4  \n",
              "4    389.8  "
            ],
            "text/html": [
              "\n",
              "  <div id=\"df-5383ccc3-0b3e-4ce8-9d07-52c9bbf395f8\">\n",
              "    <div class=\"colab-df-container\">\n",
              "      <div>\n",
              "<style scoped>\n",
              "    .dataframe tbody tr th:only-of-type {\n",
              "        vertical-align: middle;\n",
              "    }\n",
              "\n",
              "    .dataframe tbody tr th {\n",
              "        vertical-align: top;\n",
              "    }\n",
              "\n",
              "    .dataframe thead th {\n",
              "        text-align: right;\n",
              "    }\n",
              "</style>\n",
              "<table border=\"1\" class=\"dataframe\">\n",
              "  <thead>\n",
              "    <tr style=\"text-align: right;\">\n",
              "      <th></th>\n",
              "      <th>Year</th>\n",
              "      <th>Month</th>\n",
              "      <th>time index</th>\n",
              "      <th>FFR</th>\n",
              "      <th>GDP</th>\n",
              "      <th>MS</th>\n",
              "      <th>UI</th>\n",
              "      <th>Gas Price</th>\n",
              "      <th>S&amp;P 500</th>\n",
              "    </tr>\n",
              "  </thead>\n",
              "  <tbody>\n",
              "    <tr>\n",
              "      <th>0</th>\n",
              "      <td>1991</td>\n",
              "      <td>Jan</td>\n",
              "      <td>1</td>\n",
              "      <td>1.545946</td>\n",
              "      <td>-1.589107</td>\n",
              "      <td>-1.150451</td>\n",
              "      <td>0.383277</td>\n",
              "      <td>1.000</td>\n",
              "      <td>343.9</td>\n",
              "    </tr>\n",
              "    <tr>\n",
              "      <th>1</th>\n",
              "      <td>1991</td>\n",
              "      <td>Feb</td>\n",
              "      <td>2</td>\n",
              "      <td>1.488320</td>\n",
              "      <td>-1.589107</td>\n",
              "      <td>-1.145532</td>\n",
              "      <td>0.509800</td>\n",
              "      <td>1.094</td>\n",
              "      <td>367.1</td>\n",
              "    </tr>\n",
              "    <tr>\n",
              "      <th>2</th>\n",
              "      <td>1991</td>\n",
              "      <td>Mar</td>\n",
              "      <td>3</td>\n",
              "      <td>1.395232</td>\n",
              "      <td>-1.566827</td>\n",
              "      <td>-1.141280</td>\n",
              "      <td>0.446539</td>\n",
              "      <td>1.040</td>\n",
              "      <td>375.2</td>\n",
              "    </tr>\n",
              "    <tr>\n",
              "      <th>3</th>\n",
              "      <td>1991</td>\n",
              "      <td>Apr</td>\n",
              "      <td>4</td>\n",
              "      <td>1.337606</td>\n",
              "      <td>-1.566827</td>\n",
              "      <td>-1.137917</td>\n",
              "      <td>0.573061</td>\n",
              "      <td>1.076</td>\n",
              "      <td>375.4</td>\n",
              "    </tr>\n",
              "    <tr>\n",
              "      <th>4</th>\n",
              "      <td>1991</td>\n",
              "      <td>May</td>\n",
              "      <td>5</td>\n",
              "      <td>1.390799</td>\n",
              "      <td>-1.566827</td>\n",
              "      <td>-1.135981</td>\n",
              "      <td>0.573061</td>\n",
              "      <td>1.126</td>\n",
              "      <td>389.8</td>\n",
              "    </tr>\n",
              "  </tbody>\n",
              "</table>\n",
              "</div>\n",
              "      <button class=\"colab-df-convert\" onclick=\"convertToInteractive('df-5383ccc3-0b3e-4ce8-9d07-52c9bbf395f8')\"\n",
              "              title=\"Convert this dataframe to an interactive table.\"\n",
              "              style=\"display:none;\">\n",
              "        \n",
              "  <svg xmlns=\"http://www.w3.org/2000/svg\" height=\"24px\"viewBox=\"0 0 24 24\"\n",
              "       width=\"24px\">\n",
              "    <path d=\"M0 0h24v24H0V0z\" fill=\"none\"/>\n",
              "    <path d=\"M18.56 5.44l.94 2.06.94-2.06 2.06-.94-2.06-.94-.94-2.06-.94 2.06-2.06.94zm-11 1L8.5 8.5l.94-2.06 2.06-.94-2.06-.94L8.5 2.5l-.94 2.06-2.06.94zm10 10l.94 2.06.94-2.06 2.06-.94-2.06-.94-.94-2.06-.94 2.06-2.06.94z\"/><path d=\"M17.41 7.96l-1.37-1.37c-.4-.4-.92-.59-1.43-.59-.52 0-1.04.2-1.43.59L10.3 9.45l-7.72 7.72c-.78.78-.78 2.05 0 2.83L4 21.41c.39.39.9.59 1.41.59.51 0 1.02-.2 1.41-.59l7.78-7.78 2.81-2.81c.8-.78.8-2.07 0-2.86zM5.41 20L4 18.59l7.72-7.72 1.47 1.35L5.41 20z\"/>\n",
              "  </svg>\n",
              "      </button>\n",
              "      \n",
              "  <style>\n",
              "    .colab-df-container {\n",
              "      display:flex;\n",
              "      flex-wrap:wrap;\n",
              "      gap: 12px;\n",
              "    }\n",
              "\n",
              "    .colab-df-convert {\n",
              "      background-color: #E8F0FE;\n",
              "      border: none;\n",
              "      border-radius: 50%;\n",
              "      cursor: pointer;\n",
              "      display: none;\n",
              "      fill: #1967D2;\n",
              "      height: 32px;\n",
              "      padding: 0 0 0 0;\n",
              "      width: 32px;\n",
              "    }\n",
              "\n",
              "    .colab-df-convert:hover {\n",
              "      background-color: #E2EBFA;\n",
              "      box-shadow: 0px 1px 2px rgba(60, 64, 67, 0.3), 0px 1px 3px 1px rgba(60, 64, 67, 0.15);\n",
              "      fill: #174EA6;\n",
              "    }\n",
              "\n",
              "    [theme=dark] .colab-df-convert {\n",
              "      background-color: #3B4455;\n",
              "      fill: #D2E3FC;\n",
              "    }\n",
              "\n",
              "    [theme=dark] .colab-df-convert:hover {\n",
              "      background-color: #434B5C;\n",
              "      box-shadow: 0px 1px 3px 1px rgba(0, 0, 0, 0.15);\n",
              "      filter: drop-shadow(0px 1px 2px rgba(0, 0, 0, 0.3));\n",
              "      fill: #FFFFFF;\n",
              "    }\n",
              "  </style>\n",
              "\n",
              "      <script>\n",
              "        const buttonEl =\n",
              "          document.querySelector('#df-5383ccc3-0b3e-4ce8-9d07-52c9bbf395f8 button.colab-df-convert');\n",
              "        buttonEl.style.display =\n",
              "          google.colab.kernel.accessAllowed ? 'block' : 'none';\n",
              "\n",
              "        async function convertToInteractive(key) {\n",
              "          const element = document.querySelector('#df-5383ccc3-0b3e-4ce8-9d07-52c9bbf395f8');\n",
              "          const dataTable =\n",
              "            await google.colab.kernel.invokeFunction('convertToInteractive',\n",
              "                                                     [key], {});\n",
              "          if (!dataTable) return;\n",
              "\n",
              "          const docLinkHtml = 'Like what you see? Visit the ' +\n",
              "            '<a target=\"_blank\" href=https://colab.research.google.com/notebooks/data_table.ipynb>data table notebook</a>'\n",
              "            + ' to learn more about interactive tables.';\n",
              "          element.innerHTML = '';\n",
              "          dataTable['output_type'] = 'display_data';\n",
              "          await google.colab.output.renderOutput(dataTable, element);\n",
              "          const docLink = document.createElement('div');\n",
              "          docLink.innerHTML = docLinkHtml;\n",
              "          element.appendChild(docLink);\n",
              "        }\n",
              "      </script>\n",
              "    </div>\n",
              "  </div>\n",
              "  "
            ]
          },
          "metadata": {},
          "execution_count": 5
        }
      ]
    },
    {
      "cell_type": "code",
      "source": [
        "# Drop time index column\n",
        "df= df.drop(['time index'],axis =1)\n"
      ],
      "metadata": {
        "id": "Zmvs8lzL3BTm"
      },
      "execution_count": null,
      "outputs": []
    },
    {
      "cell_type": "code",
      "source": [
        "df"
      ],
      "metadata": {
        "colab": {
          "base_uri": "https://localhost:8080/",
          "height": 424
        },
        "id": "O96ZUrOkJBWx",
        "outputId": "4fea1565-326c-447d-8833-1f5ae14b6c06"
      },
      "execution_count": null,
      "outputs": [
        {
          "output_type": "execute_result",
          "data": {
            "text/plain": [
              "     Year  Month       FFR      GDP         MS       UI   Gas Price  S&P 500\n",
              "0     1991   Jan  1.545946 -1.589107 -1.150451  0.383277      1.000    343.9\n",
              "1     1991   Feb  1.488320 -1.589107 -1.145532  0.509800      1.094    367.1\n",
              "2     1991   Mar  1.395232 -1.566827 -1.141280  0.446539      1.040    375.2\n",
              "3     1991   Apr  1.337606 -1.566827 -1.137917  0.573061      1.076    375.4\n",
              "4     1991   May  1.390799 -1.566827 -1.135981  0.573061      1.126    389.8\n",
              "..     ...   ...       ...       ...       ...       ...        ...      ...\n",
              "319   2017   Aug -0.714772  1.818101  2.148792 -1.134993      2.380   2476.4\n",
              "320   2017   Sep -0.714772  1.815304  2.165853 -1.198254      2.645   2476.6\n",
              "321   2017   Oct -0.710340  1.855704  2.174257 -1.198254      2.505   2529.1\n",
              "322   2017   Nov -0.648281  1.869676  2.191773 -1.198254      2.564   2579.4\n",
              "323   2017   Dec -0.599520  1.882159  2.192038 -1.198254      2.477   2673.6\n",
              "\n",
              "[324 rows x 8 columns]"
            ],
            "text/html": [
              "\n",
              "  <div id=\"df-790673de-4c9c-4bd7-803b-dcf0fe3ebf05\">\n",
              "    <div class=\"colab-df-container\">\n",
              "      <div>\n",
              "<style scoped>\n",
              "    .dataframe tbody tr th:only-of-type {\n",
              "        vertical-align: middle;\n",
              "    }\n",
              "\n",
              "    .dataframe tbody tr th {\n",
              "        vertical-align: top;\n",
              "    }\n",
              "\n",
              "    .dataframe thead th {\n",
              "        text-align: right;\n",
              "    }\n",
              "</style>\n",
              "<table border=\"1\" class=\"dataframe\">\n",
              "  <thead>\n",
              "    <tr style=\"text-align: right;\">\n",
              "      <th></th>\n",
              "      <th>Year</th>\n",
              "      <th>Month</th>\n",
              "      <th>FFR</th>\n",
              "      <th>GDP</th>\n",
              "      <th>MS</th>\n",
              "      <th>UI</th>\n",
              "      <th>Gas Price</th>\n",
              "      <th>S&amp;P 500</th>\n",
              "    </tr>\n",
              "  </thead>\n",
              "  <tbody>\n",
              "    <tr>\n",
              "      <th>0</th>\n",
              "      <td>1991</td>\n",
              "      <td>Jan</td>\n",
              "      <td>1.545946</td>\n",
              "      <td>-1.589107</td>\n",
              "      <td>-1.150451</td>\n",
              "      <td>0.383277</td>\n",
              "      <td>1.000</td>\n",
              "      <td>343.9</td>\n",
              "    </tr>\n",
              "    <tr>\n",
              "      <th>1</th>\n",
              "      <td>1991</td>\n",
              "      <td>Feb</td>\n",
              "      <td>1.488320</td>\n",
              "      <td>-1.589107</td>\n",
              "      <td>-1.145532</td>\n",
              "      <td>0.509800</td>\n",
              "      <td>1.094</td>\n",
              "      <td>367.1</td>\n",
              "    </tr>\n",
              "    <tr>\n",
              "      <th>2</th>\n",
              "      <td>1991</td>\n",
              "      <td>Mar</td>\n",
              "      <td>1.395232</td>\n",
              "      <td>-1.566827</td>\n",
              "      <td>-1.141280</td>\n",
              "      <td>0.446539</td>\n",
              "      <td>1.040</td>\n",
              "      <td>375.2</td>\n",
              "    </tr>\n",
              "    <tr>\n",
              "      <th>3</th>\n",
              "      <td>1991</td>\n",
              "      <td>Apr</td>\n",
              "      <td>1.337606</td>\n",
              "      <td>-1.566827</td>\n",
              "      <td>-1.137917</td>\n",
              "      <td>0.573061</td>\n",
              "      <td>1.076</td>\n",
              "      <td>375.4</td>\n",
              "    </tr>\n",
              "    <tr>\n",
              "      <th>4</th>\n",
              "      <td>1991</td>\n",
              "      <td>May</td>\n",
              "      <td>1.390799</td>\n",
              "      <td>-1.566827</td>\n",
              "      <td>-1.135981</td>\n",
              "      <td>0.573061</td>\n",
              "      <td>1.126</td>\n",
              "      <td>389.8</td>\n",
              "    </tr>\n",
              "    <tr>\n",
              "      <th>...</th>\n",
              "      <td>...</td>\n",
              "      <td>...</td>\n",
              "      <td>...</td>\n",
              "      <td>...</td>\n",
              "      <td>...</td>\n",
              "      <td>...</td>\n",
              "      <td>...</td>\n",
              "      <td>...</td>\n",
              "    </tr>\n",
              "    <tr>\n",
              "      <th>319</th>\n",
              "      <td>2017</td>\n",
              "      <td>Aug</td>\n",
              "      <td>-0.714772</td>\n",
              "      <td>1.818101</td>\n",
              "      <td>2.148792</td>\n",
              "      <td>-1.134993</td>\n",
              "      <td>2.380</td>\n",
              "      <td>2476.4</td>\n",
              "    </tr>\n",
              "    <tr>\n",
              "      <th>320</th>\n",
              "      <td>2017</td>\n",
              "      <td>Sep</td>\n",
              "      <td>-0.714772</td>\n",
              "      <td>1.815304</td>\n",
              "      <td>2.165853</td>\n",
              "      <td>-1.198254</td>\n",
              "      <td>2.645</td>\n",
              "      <td>2476.6</td>\n",
              "    </tr>\n",
              "    <tr>\n",
              "      <th>321</th>\n",
              "      <td>2017</td>\n",
              "      <td>Oct</td>\n",
              "      <td>-0.710340</td>\n",
              "      <td>1.855704</td>\n",
              "      <td>2.174257</td>\n",
              "      <td>-1.198254</td>\n",
              "      <td>2.505</td>\n",
              "      <td>2529.1</td>\n",
              "    </tr>\n",
              "    <tr>\n",
              "      <th>322</th>\n",
              "      <td>2017</td>\n",
              "      <td>Nov</td>\n",
              "      <td>-0.648281</td>\n",
              "      <td>1.869676</td>\n",
              "      <td>2.191773</td>\n",
              "      <td>-1.198254</td>\n",
              "      <td>2.564</td>\n",
              "      <td>2579.4</td>\n",
              "    </tr>\n",
              "    <tr>\n",
              "      <th>323</th>\n",
              "      <td>2017</td>\n",
              "      <td>Dec</td>\n",
              "      <td>-0.599520</td>\n",
              "      <td>1.882159</td>\n",
              "      <td>2.192038</td>\n",
              "      <td>-1.198254</td>\n",
              "      <td>2.477</td>\n",
              "      <td>2673.6</td>\n",
              "    </tr>\n",
              "  </tbody>\n",
              "</table>\n",
              "<p>324 rows × 8 columns</p>\n",
              "</div>\n",
              "      <button class=\"colab-df-convert\" onclick=\"convertToInteractive('df-790673de-4c9c-4bd7-803b-dcf0fe3ebf05')\"\n",
              "              title=\"Convert this dataframe to an interactive table.\"\n",
              "              style=\"display:none;\">\n",
              "        \n",
              "  <svg xmlns=\"http://www.w3.org/2000/svg\" height=\"24px\"viewBox=\"0 0 24 24\"\n",
              "       width=\"24px\">\n",
              "    <path d=\"M0 0h24v24H0V0z\" fill=\"none\"/>\n",
              "    <path d=\"M18.56 5.44l.94 2.06.94-2.06 2.06-.94-2.06-.94-.94-2.06-.94 2.06-2.06.94zm-11 1L8.5 8.5l.94-2.06 2.06-.94-2.06-.94L8.5 2.5l-.94 2.06-2.06.94zm10 10l.94 2.06.94-2.06 2.06-.94-2.06-.94-.94-2.06-.94 2.06-2.06.94z\"/><path d=\"M17.41 7.96l-1.37-1.37c-.4-.4-.92-.59-1.43-.59-.52 0-1.04.2-1.43.59L10.3 9.45l-7.72 7.72c-.78.78-.78 2.05 0 2.83L4 21.41c.39.39.9.59 1.41.59.51 0 1.02-.2 1.41-.59l7.78-7.78 2.81-2.81c.8-.78.8-2.07 0-2.86zM5.41 20L4 18.59l7.72-7.72 1.47 1.35L5.41 20z\"/>\n",
              "  </svg>\n",
              "      </button>\n",
              "      \n",
              "  <style>\n",
              "    .colab-df-container {\n",
              "      display:flex;\n",
              "      flex-wrap:wrap;\n",
              "      gap: 12px;\n",
              "    }\n",
              "\n",
              "    .colab-df-convert {\n",
              "      background-color: #E8F0FE;\n",
              "      border: none;\n",
              "      border-radius: 50%;\n",
              "      cursor: pointer;\n",
              "      display: none;\n",
              "      fill: #1967D2;\n",
              "      height: 32px;\n",
              "      padding: 0 0 0 0;\n",
              "      width: 32px;\n",
              "    }\n",
              "\n",
              "    .colab-df-convert:hover {\n",
              "      background-color: #E2EBFA;\n",
              "      box-shadow: 0px 1px 2px rgba(60, 64, 67, 0.3), 0px 1px 3px 1px rgba(60, 64, 67, 0.15);\n",
              "      fill: #174EA6;\n",
              "    }\n",
              "\n",
              "    [theme=dark] .colab-df-convert {\n",
              "      background-color: #3B4455;\n",
              "      fill: #D2E3FC;\n",
              "    }\n",
              "\n",
              "    [theme=dark] .colab-df-convert:hover {\n",
              "      background-color: #434B5C;\n",
              "      box-shadow: 0px 1px 3px 1px rgba(0, 0, 0, 0.15);\n",
              "      filter: drop-shadow(0px 1px 2px rgba(0, 0, 0, 0.3));\n",
              "      fill: #FFFFFF;\n",
              "    }\n",
              "  </style>\n",
              "\n",
              "      <script>\n",
              "        const buttonEl =\n",
              "          document.querySelector('#df-790673de-4c9c-4bd7-803b-dcf0fe3ebf05 button.colab-df-convert');\n",
              "        buttonEl.style.display =\n",
              "          google.colab.kernel.accessAllowed ? 'block' : 'none';\n",
              "\n",
              "        async function convertToInteractive(key) {\n",
              "          const element = document.querySelector('#df-790673de-4c9c-4bd7-803b-dcf0fe3ebf05');\n",
              "          const dataTable =\n",
              "            await google.colab.kernel.invokeFunction('convertToInteractive',\n",
              "                                                     [key], {});\n",
              "          if (!dataTable) return;\n",
              "\n",
              "          const docLinkHtml = 'Like what you see? Visit the ' +\n",
              "            '<a target=\"_blank\" href=https://colab.research.google.com/notebooks/data_table.ipynb>data table notebook</a>'\n",
              "            + ' to learn more about interactive tables.';\n",
              "          element.innerHTML = '';\n",
              "          dataTable['output_type'] = 'display_data';\n",
              "          await google.colab.output.renderOutput(dataTable, element);\n",
              "          const docLink = document.createElement('div');\n",
              "          docLink.innerHTML = docLinkHtml;\n",
              "          element.appendChild(docLink);\n",
              "        }\n",
              "      </script>\n",
              "    </div>\n",
              "  </div>\n",
              "  "
            ]
          },
          "metadata": {},
          "execution_count": 7
        }
      ]
    },
    {
      "cell_type": "code",
      "source": [
        "df.shape"
      ],
      "metadata": {
        "colab": {
          "base_uri": "https://localhost:8080/"
        },
        "id": "y9oVtdRRUSlW",
        "outputId": "517b54a8-2591-4f54-de3f-1dfe8dae127a"
      },
      "execution_count": null,
      "outputs": [
        {
          "output_type": "execute_result",
          "data": {
            "text/plain": [
              "(324, 8)"
            ]
          },
          "metadata": {},
          "execution_count": 8
        }
      ]
    },
    {
      "cell_type": "markdown",
      "source": [
        "Timeseries plot"
      ],
      "metadata": {
        "id": "WvWFL5yz_oIg"
      }
    },
    {
      "cell_type": "code",
      "source": [
        "# Define a function to draw time_series plot\n",
        "def timeseries (x_axis, y_axis, x_label, y_label):\n",
        "    plt.figure(figsize = (10, 6))\n",
        "    plt.plot(x_axis, y_axis, color ='black')\n",
        "    plt.xlabel(x_label, {'fontsize': 12})\n",
        "    plt.ylabel(y_label, {'fontsize': 12})\n",
        "    #plt.savefig('drive/My Drive/Colab Notebooks/LSTM&GRU/1.jpg', format='jpg', dpi=1000)\n",
        "\n",
        "timeseries(df.index, df['S&P 500'], 'Month', \n",
        "           'S&P 500')"
      ],
      "metadata": {
        "colab": {
          "base_uri": "https://localhost:8080/",
          "height": 391
        },
        "id": "G5v98a84V7mX",
        "outputId": "986fa136-d1e5-41c6-c5fe-368196b7d9ce"
      },
      "execution_count": null,
      "outputs": [
        {
          "output_type": "display_data",
          "data": {
            "text/plain": [
              "<Figure size 720x432 with 1 Axes>"
            ],
            "image/png": "[encoded data removed]"
          },
          "metadata": {
            "needs_background": "light"
          }
        }
      ]
    },
    {
      "cell_type": "code",
      "source": [
        "# Set Month as index\n",
        "df = df.set_index(['Month'])"
      ],
      "metadata": {
        "id": "4eGH4ifAXVGF"
      },
      "execution_count": null,
      "outputs": []
    },
    {
      "cell_type": "code",
      "source": [
        "df"
      ],
      "metadata": {
        "colab": {
          "base_uri": "https://localhost:8080/",
          "height": 455
        },
        "id": "vwx31RU1b8YQ",
        "outputId": "48a7ec17-7d15-43fd-9114-f01ba3d02818"
      },
      "execution_count": null,
      "outputs": [
        {
          "output_type": "execute_result",
          "data": {
            "text/plain": [
              "       Year        FFR      GDP         MS       UI   Gas Price  S&P 500\n",
              "Month                                                                   \n",
              "Jan     1991  1.545946 -1.589107 -1.150451  0.383277      1.000    343.9\n",
              "Feb     1991  1.488320 -1.589107 -1.145532  0.509800      1.094    367.1\n",
              "Mar     1991  1.395232 -1.566827 -1.141280  0.446539      1.040    375.2\n",
              "Apr     1991  1.337606 -1.566827 -1.137917  0.573061      1.076    375.4\n",
              "May     1991  1.390799 -1.566827 -1.135981  0.573061      1.126    389.8\n",
              "...      ...       ...       ...       ...       ...        ...      ...\n",
              "Aug     2017 -0.714772  1.818101  2.148792 -1.134993      2.380   2476.4\n",
              "Sep     2017 -0.714772  1.815304  2.165853 -1.198254      2.645   2476.6\n",
              "Oct     2017 -0.710340  1.855704  2.174257 -1.198254      2.505   2529.1\n",
              "Nov     2017 -0.648281  1.869676  2.191773 -1.198254      2.564   2579.4\n",
              "Dec     2017 -0.599520  1.882159  2.192038 -1.198254      2.477   2673.6\n",
              "\n",
              "[324 rows x 7 columns]"
            ],
            "text/html": [
              "\n",
              "  <div id=\"df-373087ba-a95f-4e21-8e6c-b013762a6e1c\">\n",
              "    <div class=\"colab-df-container\">\n",
              "      <div>\n",
              "<style scoped>\n",
              "    .dataframe tbody tr th:only-of-type {\n",
              "        vertical-align: middle;\n",
              "    }\n",
              "\n",
              "    .dataframe tbody tr th {\n",
              "        vertical-align: top;\n",
              "    }\n",
              "\n",
              "    .dataframe thead th {\n",
              "        text-align: right;\n",
              "    }\n",
              "</style>\n",
              "<table border=\"1\" class=\"dataframe\">\n",
              "  <thead>\n",
              "    <tr style=\"text-align: right;\">\n",
              "      <th></th>\n",
              "      <th>Year</th>\n",
              "      <th>FFR</th>\n",
              "      <th>GDP</th>\n",
              "      <th>MS</th>\n",
              "      <th>UI</th>\n",
              "      <th>Gas Price</th>\n",
              "      <th>S&amp;P 500</th>\n",
              "    </tr>\n",
              "    <tr>\n",
              "      <th>Month</th>\n",
              "      <th></th>\n",
              "      <th></th>\n",
              "      <th></th>\n",
              "      <th></th>\n",
              "      <th></th>\n",
              "      <th></th>\n",
              "      <th></th>\n",
              "    </tr>\n",
              "  </thead>\n",
              "  <tbody>\n",
              "    <tr>\n",
              "      <th>Jan</th>\n",
              "      <td>1991</td>\n",
              "      <td>1.545946</td>\n",
              "      <td>-1.589107</td>\n",
              "      <td>-1.150451</td>\n",
              "      <td>0.383277</td>\n",
              "      <td>1.000</td>\n",
              "      <td>343.9</td>\n",
              "    </tr>\n",
              "    <tr>\n",
              "      <th>Feb</th>\n",
              "      <td>1991</td>\n",
              "      <td>1.488320</td>\n",
              "      <td>-1.589107</td>\n",
              "      <td>-1.145532</td>\n",
              "      <td>0.509800</td>\n",
              "      <td>1.094</td>\n",
              "      <td>367.1</td>\n",
              "    </tr>\n",
              "    <tr>\n",
              "      <th>Mar</th>\n",
              "      <td>1991</td>\n",
              "      <td>1.395232</td>\n",
              "      <td>-1.566827</td>\n",
              "      <td>-1.141280</td>\n",
              "      <td>0.446539</td>\n",
              "      <td>1.040</td>\n",
              "      <td>375.2</td>\n",
              "    </tr>\n",
              "    <tr>\n",
              "      <th>Apr</th>\n",
              "      <td>1991</td>\n",
              "      <td>1.337606</td>\n",
              "      <td>-1.566827</td>\n",
              "      <td>-1.137917</td>\n",
              "      <td>0.573061</td>\n",
              "      <td>1.076</td>\n",
              "      <td>375.4</td>\n",
              "    </tr>\n",
              "    <tr>\n",
              "      <th>May</th>\n",
              "      <td>1991</td>\n",
              "      <td>1.390799</td>\n",
              "      <td>-1.566827</td>\n",
              "      <td>-1.135981</td>\n",
              "      <td>0.573061</td>\n",
              "      <td>1.126</td>\n",
              "      <td>389.8</td>\n",
              "    </tr>\n",
              "    <tr>\n",
              "      <th>...</th>\n",
              "      <td>...</td>\n",
              "      <td>...</td>\n",
              "      <td>...</td>\n",
              "      <td>...</td>\n",
              "      <td>...</td>\n",
              "      <td>...</td>\n",
              "      <td>...</td>\n",
              "    </tr>\n",
              "    <tr>\n",
              "      <th>Aug</th>\n",
              "      <td>2017</td>\n",
              "      <td>-0.714772</td>\n",
              "      <td>1.818101</td>\n",
              "      <td>2.148792</td>\n",
              "      <td>-1.134993</td>\n",
              "      <td>2.380</td>\n",
              "      <td>2476.4</td>\n",
              "    </tr>\n",
              "    <tr>\n",
              "      <th>Sep</th>\n",
              "      <td>2017</td>\n",
              "      <td>-0.714772</td>\n",
              "      <td>1.815304</td>\n",
              "      <td>2.165853</td>\n",
              "      <td>-1.198254</td>\n",
              "      <td>2.645</td>\n",
              "      <td>2476.6</td>\n",
              "    </tr>\n",
              "    <tr>\n",
              "      <th>Oct</th>\n",
              "      <td>2017</td>\n",
              "      <td>-0.710340</td>\n",
              "      <td>1.855704</td>\n",
              "      <td>2.174257</td>\n",
              "      <td>-1.198254</td>\n",
              "      <td>2.505</td>\n",
              "      <td>2529.1</td>\n",
              "    </tr>\n",
              "    <tr>\n",
              "      <th>Nov</th>\n",
              "      <td>2017</td>\n",
              "      <td>-0.648281</td>\n",
              "      <td>1.869676</td>\n",
              "      <td>2.191773</td>\n",
              "      <td>-1.198254</td>\n",
              "      <td>2.564</td>\n",
              "      <td>2579.4</td>\n",
              "    </tr>\n",
              "    <tr>\n",
              "      <th>Dec</th>\n",
              "      <td>2017</td>\n",
              "      <td>-0.599520</td>\n",
              "      <td>1.882159</td>\n",
              "      <td>2.192038</td>\n",
              "      <td>-1.198254</td>\n",
              "      <td>2.477</td>\n",
              "      <td>2673.6</td>\n",
              "    </tr>\n",
              "  </tbody>\n",
              "</table>\n",
              "<p>324 rows × 7 columns</p>\n",
              "</div>\n",
              "      <button class=\"colab-df-convert\" onclick=\"convertToInteractive('df-373087ba-a95f-4e21-8e6c-b013762a6e1c')\"\n",
              "              title=\"Convert this dataframe to an interactive table.\"\n",
              "              style=\"display:none;\">\n",
              "        \n",
              "  <svg xmlns=\"http://www.w3.org/2000/svg\" height=\"24px\"viewBox=\"0 0 24 24\"\n",
              "       width=\"24px\">\n",
              "    <path d=\"M0 0h24v24H0V0z\" fill=\"none\"/>\n",
              "    <path d=\"M18.56 5.44l.94 2.06.94-2.06 2.06-.94-2.06-.94-.94-2.06-.94 2.06-2.06.94zm-11 1L8.5 8.5l.94-2.06 2.06-.94-2.06-.94L8.5 2.5l-.94 2.06-2.06.94zm10 10l.94 2.06.94-2.06 2.06-.94-2.06-.94-.94-2.06-.94 2.06-2.06.94z\"/><path d=\"M17.41 7.96l-1.37-1.37c-.4-.4-.92-.59-1.43-.59-.52 0-1.04.2-1.43.59L10.3 9.45l-7.72 7.72c-.78.78-.78 2.05 0 2.83L4 21.41c.39.39.9.59 1.41.59.51 0 1.02-.2 1.41-.59l7.78-7.78 2.81-2.81c.8-.78.8-2.07 0-2.86zM5.41 20L4 18.59l7.72-7.72 1.47 1.35L5.41 20z\"/>\n",
              "  </svg>\n",
              "      </button>\n",
              "      \n",
              "  <style>\n",
              "    .colab-df-container {\n",
              "      display:flex;\n",
              "      flex-wrap:wrap;\n",
              "      gap: 12px;\n",
              "    }\n",
              "\n",
              "    .colab-df-convert {\n",
              "      background-color: #E8F0FE;\n",
              "      border: none;\n",
              "      border-radius: 50%;\n",
              "      cursor: pointer;\n",
              "      display: none;\n",
              "      fill: #1967D2;\n",
              "      height: 32px;\n",
              "      padding: 0 0 0 0;\n",
              "      width: 32px;\n",
              "    }\n",
              "\n",
              "    .colab-df-convert:hover {\n",
              "      background-color: #E2EBFA;\n",
              "      box-shadow: 0px 1px 2px rgba(60, 64, 67, 0.3), 0px 1px 3px 1px rgba(60, 64, 67, 0.15);\n",
              "      fill: #174EA6;\n",
              "    }\n",
              "\n",
              "    [theme=dark] .colab-df-convert {\n",
              "      background-color: #3B4455;\n",
              "      fill: #D2E3FC;\n",
              "    }\n",
              "\n",
              "    [theme=dark] .colab-df-convert:hover {\n",
              "      background-color: #434B5C;\n",
              "      box-shadow: 0px 1px 3px 1px rgba(0, 0, 0, 0.15);\n",
              "      filter: drop-shadow(0px 1px 2px rgba(0, 0, 0, 0.3));\n",
              "      fill: #FFFFFF;\n",
              "    }\n",
              "  </style>\n",
              "\n",
              "      <script>\n",
              "        const buttonEl =\n",
              "          document.querySelector('#df-373087ba-a95f-4e21-8e6c-b013762a6e1c button.colab-df-convert');\n",
              "        buttonEl.style.display =\n",
              "          google.colab.kernel.accessAllowed ? 'block' : 'none';\n",
              "\n",
              "        async function convertToInteractive(key) {\n",
              "          const element = document.querySelector('#df-373087ba-a95f-4e21-8e6c-b013762a6e1c');\n",
              "          const dataTable =\n",
              "            await google.colab.kernel.invokeFunction('convertToInteractive',\n",
              "                                                     [key], {});\n",
              "          if (!dataTable) return;\n",
              "\n",
              "          const docLinkHtml = 'Like what you see? Visit the ' +\n",
              "            '<a target=\"_blank\" href=https://colab.research.google.com/notebooks/data_table.ipynb>data table notebook</a>'\n",
              "            + ' to learn more about interactive tables.';\n",
              "          element.innerHTML = '';\n",
              "          dataTable['output_type'] = 'display_data';\n",
              "          await google.colab.output.renderOutput(dataTable, element);\n",
              "          const docLink = document.createElement('div');\n",
              "          docLink.innerHTML = docLinkHtml;\n",
              "          element.appendChild(docLink);\n",
              "        }\n",
              "      </script>\n",
              "    </div>\n",
              "  </div>\n",
              "  "
            ]
          },
          "metadata": {},
          "execution_count": 11
        }
      ]
    },
    {
      "cell_type": "code",
      "source": [
        "# Remove whitespaces\n",
        "df.columns = df.columns.str.strip()"
      ],
      "metadata": {
        "id": "75iUJ2DgBPiE"
      },
      "execution_count": null,
      "outputs": []
    },
    {
      "cell_type": "code",
      "source": [
        "# Drop GDP column\n",
        "df= df.drop(['GDP'],axis =1)\n",
        "df"
      ],
      "metadata": {
        "colab": {
          "base_uri": "https://localhost:8080/",
          "height": 455
        },
        "id": "HuKZyFqNA2en",
        "outputId": "027c371c-9ab9-41e4-a050-a16577c4f222"
      },
      "execution_count": null,
      "outputs": [
        {
          "output_type": "execute_result",
          "data": {
            "text/plain": [
              "       Year       FFR        MS        UI  Gas Price  S&P 500\n",
              "Month                                                        \n",
              "Jan    1991  1.545946 -1.150451  0.383277      1.000    343.9\n",
              "Feb    1991  1.488320 -1.145532  0.509800      1.094    367.1\n",
              "Mar    1991  1.395232 -1.141280  0.446539      1.040    375.2\n",
              "Apr    1991  1.337606 -1.137917  0.573061      1.076    375.4\n",
              "May    1991  1.390799 -1.135981  0.573061      1.126    389.8\n",
              "...     ...       ...       ...       ...        ...      ...\n",
              "Aug    2017 -0.714772  2.148792 -1.134993      2.380   2476.4\n",
              "Sep    2017 -0.714772  2.165853 -1.198254      2.645   2476.6\n",
              "Oct    2017 -0.710340  2.174257 -1.198254      2.505   2529.1\n",
              "Nov    2017 -0.648281  2.191773 -1.198254      2.564   2579.4\n",
              "Dec    2017 -0.599520  2.192038 -1.198254      2.477   2673.6\n",
              "\n",
              "[324 rows x 6 columns]"
            ],
            "text/html": [
              "\n",
              "  <div id=\"df-a11d4944-d746-41f5-bf67-6a247cdb8021\">\n",
              "    <div class=\"colab-df-container\">\n",
              "      <div>\n",
              "<style scoped>\n",
              "    .dataframe tbody tr th:only-of-type {\n",
              "        vertical-align: middle;\n",
              "    }\n",
              "\n",
              "    .dataframe tbody tr th {\n",
              "        vertical-align: top;\n",
              "    }\n",
              "\n",
              "    .dataframe thead th {\n",
              "        text-align: right;\n",
              "    }\n",
              "</style>\n",
              "<table border=\"1\" class=\"dataframe\">\n",
              "  <thead>\n",
              "    <tr style=\"text-align: right;\">\n",
              "      <th></th>\n",
              "      <th>Year</th>\n",
              "      <th>FFR</th>\n",
              "      <th>MS</th>\n",
              "      <th>UI</th>\n",
              "      <th>Gas Price</th>\n",
              "      <th>S&amp;P 500</th>\n",
              "    </tr>\n",
              "    <tr>\n",
              "      <th>Month</th>\n",
              "      <th></th>\n",
              "      <th></th>\n",
              "      <th></th>\n",
              "      <th></th>\n",
              "      <th></th>\n",
              "      <th></th>\n",
              "    </tr>\n",
              "  </thead>\n",
              "  <tbody>\n",
              "    <tr>\n",
              "      <th>Jan</th>\n",
              "      <td>1991</td>\n",
              "      <td>1.545946</td>\n",
              "      <td>-1.150451</td>\n",
              "      <td>0.383277</td>\n",
              "      <td>1.000</td>\n",
              "      <td>343.9</td>\n",
              "    </tr>\n",
              "    <tr>\n",
              "      <th>Feb</th>\n",
              "      <td>1991</td>\n",
              "      <td>1.488320</td>\n",
              "      <td>-1.145532</td>\n",
              "      <td>0.509800</td>\n",
              "      <td>1.094</td>\n",
              "      <td>367.1</td>\n",
              "    </tr>\n",
              "    <tr>\n",
              "      <th>Mar</th>\n",
              "      <td>1991</td>\n",
              "      <td>1.395232</td>\n",
              "      <td>-1.141280</td>\n",
              "      <td>0.446539</td>\n",
              "      <td>1.040</td>\n",
              "      <td>375.2</td>\n",
              "    </tr>\n",
              "    <tr>\n",
              "      <th>Apr</th>\n",
              "      <td>1991</td>\n",
              "      <td>1.337606</td>\n",
              "      <td>-1.137917</td>\n",
              "      <td>0.573061</td>\n",
              "      <td>1.076</td>\n",
              "      <td>375.4</td>\n",
              "    </tr>\n",
              "    <tr>\n",
              "      <th>May</th>\n",
              "      <td>1991</td>\n",
              "      <td>1.390799</td>\n",
              "      <td>-1.135981</td>\n",
              "      <td>0.573061</td>\n",
              "      <td>1.126</td>\n",
              "      <td>389.8</td>\n",
              "    </tr>\n",
              "    <tr>\n",
              "      <th>...</th>\n",
              "      <td>...</td>\n",
              "      <td>...</td>\n",
              "      <td>...</td>\n",
              "      <td>...</td>\n",
              "      <td>...</td>\n",
              "      <td>...</td>\n",
              "    </tr>\n",
              "    <tr>\n",
              "      <th>Aug</th>\n",
              "      <td>2017</td>\n",
              "      <td>-0.714772</td>\n",
              "      <td>2.148792</td>\n",
              "      <td>-1.134993</td>\n",
              "      <td>2.380</td>\n",
              "      <td>2476.4</td>\n",
              "    </tr>\n",
              "    <tr>\n",
              "      <th>Sep</th>\n",
              "      <td>2017</td>\n",
              "      <td>-0.714772</td>\n",
              "      <td>2.165853</td>\n",
              "      <td>-1.198254</td>\n",
              "      <td>2.645</td>\n",
              "      <td>2476.6</td>\n",
              "    </tr>\n",
              "    <tr>\n",
              "      <th>Oct</th>\n",
              "      <td>2017</td>\n",
              "      <td>-0.710340</td>\n",
              "      <td>2.174257</td>\n",
              "      <td>-1.198254</td>\n",
              "      <td>2.505</td>\n",
              "      <td>2529.1</td>\n",
              "    </tr>\n",
              "    <tr>\n",
              "      <th>Nov</th>\n",
              "      <td>2017</td>\n",
              "      <td>-0.648281</td>\n",
              "      <td>2.191773</td>\n",
              "      <td>-1.198254</td>\n",
              "      <td>2.564</td>\n",
              "      <td>2579.4</td>\n",
              "    </tr>\n",
              "    <tr>\n",
              "      <th>Dec</th>\n",
              "      <td>2017</td>\n",
              "      <td>-0.599520</td>\n",
              "      <td>2.192038</td>\n",
              "      <td>-1.198254</td>\n",
              "      <td>2.477</td>\n",
              "      <td>2673.6</td>\n",
              "    </tr>\n",
              "  </tbody>\n",
              "</table>\n",
              "<p>324 rows × 6 columns</p>\n",
              "</div>\n",
              "      <button class=\"colab-df-convert\" onclick=\"convertToInteractive('df-a11d4944-d746-41f5-bf67-6a247cdb8021')\"\n",
              "              title=\"Convert this dataframe to an interactive table.\"\n",
              "              style=\"display:none;\">\n",
              "        \n",
              "  <svg xmlns=\"http://www.w3.org/2000/svg\" height=\"24px\"viewBox=\"0 0 24 24\"\n",
              "       width=\"24px\">\n",
              "    <path d=\"M0 0h24v24H0V0z\" fill=\"none\"/>\n",
              "    <path d=\"M18.56 5.44l.94 2.06.94-2.06 2.06-.94-2.06-.94-.94-2.06-.94 2.06-2.06.94zm-11 1L8.5 8.5l.94-2.06 2.06-.94-2.06-.94L8.5 2.5l-.94 2.06-2.06.94zm10 10l.94 2.06.94-2.06 2.06-.94-2.06-.94-.94-2.06-.94 2.06-2.06.94z\"/><path d=\"M17.41 7.96l-1.37-1.37c-.4-.4-.92-.59-1.43-.59-.52 0-1.04.2-1.43.59L10.3 9.45l-7.72 7.72c-.78.78-.78 2.05 0 2.83L4 21.41c.39.39.9.59 1.41.59.51 0 1.02-.2 1.41-.59l7.78-7.78 2.81-2.81c.8-.78.8-2.07 0-2.86zM5.41 20L4 18.59l7.72-7.72 1.47 1.35L5.41 20z\"/>\n",
              "  </svg>\n",
              "      </button>\n",
              "      \n",
              "  <style>\n",
              "    .colab-df-container {\n",
              "      display:flex;\n",
              "      flex-wrap:wrap;\n",
              "      gap: 12px;\n",
              "    }\n",
              "\n",
              "    .colab-df-convert {\n",
              "      background-color: #E8F0FE;\n",
              "      border: none;\n",
              "      border-radius: 50%;\n",
              "      cursor: pointer;\n",
              "      display: none;\n",
              "      fill: #1967D2;\n",
              "      height: 32px;\n",
              "      padding: 0 0 0 0;\n",
              "      width: 32px;\n",
              "    }\n",
              "\n",
              "    .colab-df-convert:hover {\n",
              "      background-color: #E2EBFA;\n",
              "      box-shadow: 0px 1px 2px rgba(60, 64, 67, 0.3), 0px 1px 3px 1px rgba(60, 64, 67, 0.15);\n",
              "      fill: #174EA6;\n",
              "    }\n",
              "\n",
              "    [theme=dark] .colab-df-convert {\n",
              "      background-color: #3B4455;\n",
              "      fill: #D2E3FC;\n",
              "    }\n",
              "\n",
              "    [theme=dark] .colab-df-convert:hover {\n",
              "      background-color: #434B5C;\n",
              "      box-shadow: 0px 1px 3px 1px rgba(0, 0, 0, 0.15);\n",
              "      filter: drop-shadow(0px 1px 2px rgba(0, 0, 0, 0.3));\n",
              "      fill: #FFFFFF;\n",
              "    }\n",
              "  </style>\n",
              "\n",
              "      <script>\n",
              "        const buttonEl =\n",
              "          document.querySelector('#df-a11d4944-d746-41f5-bf67-6a247cdb8021 button.colab-df-convert');\n",
              "        buttonEl.style.display =\n",
              "          google.colab.kernel.accessAllowed ? 'block' : 'none';\n",
              "\n",
              "        async function convertToInteractive(key) {\n",
              "          const element = document.querySelector('#df-a11d4944-d746-41f5-bf67-6a247cdb8021');\n",
              "          const dataTable =\n",
              "            await google.colab.kernel.invokeFunction('convertToInteractive',\n",
              "                                                     [key], {});\n",
              "          if (!dataTable) return;\n",
              "\n",
              "          const docLinkHtml = 'Like what you see? Visit the ' +\n",
              "            '<a target=\"_blank\" href=https://colab.research.google.com/notebooks/data_table.ipynb>data table notebook</a>'\n",
              "            + ' to learn more about interactive tables.';\n",
              "          element.innerHTML = '';\n",
              "          dataTable['output_type'] = 'display_data';\n",
              "          await google.colab.output.renderOutput(dataTable, element);\n",
              "          const docLink = document.createElement('div');\n",
              "          docLink.innerHTML = docLinkHtml;\n",
              "          element.appendChild(docLink);\n",
              "        }\n",
              "      </script>\n",
              "    </div>\n",
              "  </div>\n",
              "  "
            ]
          },
          "metadata": {},
          "execution_count": 13
        }
      ]
    },
    {
      "cell_type": "markdown",
      "source": [
        "Split the dataset into train and test data"
      ],
      "metadata": {
        "id": "c0BmGTxHch3q"
      }
    },
    {
      "cell_type": "markdown",
      "source": [
        "Rename column"
      ],
      "metadata": {
        "id": "ERA9qMlMfl3T"
      }
    },
    {
      "cell_type": "code",
      "source": [
        "df = df.rename(columns = {'FFR':'FFR', 'MS':'MS',\n",
        "                          'UI':'UI','Gas Price':'GP','S&P 500':'SP'})\n",
        "df\n"
      ],
      "metadata": {
        "colab": {
          "base_uri": "https://localhost:8080/",
          "height": 455
        },
        "id": "VlUZXxomfpeN",
        "outputId": "185895e3-bbf9-40e8-afd6-cc86ae919c5c"
      },
      "execution_count": null,
      "outputs": [
        {
          "output_type": "execute_result",
          "data": {
            "text/plain": [
              "       Year       FFR        MS        UI     GP      SP\n",
              "Month                                                   \n",
              "Jan    1991  1.545946 -1.150451  0.383277  1.000   343.9\n",
              "Feb    1991  1.488320 -1.145532  0.509800  1.094   367.1\n",
              "Mar    1991  1.395232 -1.141280  0.446539  1.040   375.2\n",
              "Apr    1991  1.337606 -1.137917  0.573061  1.076   375.4\n",
              "May    1991  1.390799 -1.135981  0.573061  1.126   389.8\n",
              "...     ...       ...       ...       ...    ...     ...\n",
              "Aug    2017 -0.714772  2.148792 -1.134993  2.380  2476.4\n",
              "Sep    2017 -0.714772  2.165853 -1.198254  2.645  2476.6\n",
              "Oct    2017 -0.710340  2.174257 -1.198254  2.505  2529.1\n",
              "Nov    2017 -0.648281  2.191773 -1.198254  2.564  2579.4\n",
              "Dec    2017 -0.599520  2.192038 -1.198254  2.477  2673.6\n",
              "\n",
              "[324 rows x 6 columns]"
            ],
            "text/html": [
              "\n",
              "  <div id=\"df-3ce25db4-e607-4599-ac21-54a29e29b0c4\">\n",
              "    <div class=\"colab-df-container\">\n",
              "      <div>\n",
              "<style scoped>\n",
              "    .dataframe tbody tr th:only-of-type {\n",
              "        vertical-align: middle;\n",
              "    }\n",
              "\n",
              "    .dataframe tbody tr th {\n",
              "        vertical-align: top;\n",
              "    }\n",
              "\n",
              "    .dataframe thead th {\n",
              "        text-align: right;\n",
              "    }\n",
              "</style>\n",
              "<table border=\"1\" class=\"dataframe\">\n",
              "  <thead>\n",
              "    <tr style=\"text-align: right;\">\n",
              "      <th></th>\n",
              "      <th>Year</th>\n",
              "      <th>FFR</th>\n",
              "      <th>MS</th>\n",
              "      <th>UI</th>\n",
              "      <th>GP</th>\n",
              "      <th>SP</th>\n",
              "    </tr>\n",
              "    <tr>\n",
              "      <th>Month</th>\n",
              "      <th></th>\n",
              "      <th></th>\n",
              "      <th></th>\n",
              "      <th></th>\n",
              "      <th></th>\n",
              "      <th></th>\n",
              "    </tr>\n",
              "  </thead>\n",
              "  <tbody>\n",
              "    <tr>\n",
              "      <th>Jan</th>\n",
              "      <td>1991</td>\n",
              "      <td>1.545946</td>\n",
              "      <td>-1.150451</td>\n",
              "      <td>0.383277</td>\n",
              "      <td>1.000</td>\n",
              "      <td>343.9</td>\n",
              "    </tr>\n",
              "    <tr>\n",
              "      <th>Feb</th>\n",
              "      <td>1991</td>\n",
              "      <td>1.488320</td>\n",
              "      <td>-1.145532</td>\n",
              "      <td>0.509800</td>\n",
              "      <td>1.094</td>\n",
              "      <td>367.1</td>\n",
              "    </tr>\n",
              "    <tr>\n",
              "      <th>Mar</th>\n",
              "      <td>1991</td>\n",
              "      <td>1.395232</td>\n",
              "      <td>-1.141280</td>\n",
              "      <td>0.446539</td>\n",
              "      <td>1.040</td>\n",
              "      <td>375.2</td>\n",
              "    </tr>\n",
              "    <tr>\n",
              "      <th>Apr</th>\n",
              "      <td>1991</td>\n",
              "      <td>1.337606</td>\n",
              "      <td>-1.137917</td>\n",
              "      <td>0.573061</td>\n",
              "      <td>1.076</td>\n",
              "      <td>375.4</td>\n",
              "    </tr>\n",
              "    <tr>\n",
              "      <th>May</th>\n",
              "      <td>1991</td>\n",
              "      <td>1.390799</td>\n",
              "      <td>-1.135981</td>\n",
              "      <td>0.573061</td>\n",
              "      <td>1.126</td>\n",
              "      <td>389.8</td>\n",
              "    </tr>\n",
              "    <tr>\n",
              "      <th>...</th>\n",
              "      <td>...</td>\n",
              "      <td>...</td>\n",
              "      <td>...</td>\n",
              "      <td>...</td>\n",
              "      <td>...</td>\n",
              "      <td>...</td>\n",
              "    </tr>\n",
              "    <tr>\n",
              "      <th>Aug</th>\n",
              "      <td>2017</td>\n",
              "      <td>-0.714772</td>\n",
              "      <td>2.148792</td>\n",
              "      <td>-1.134993</td>\n",
              "      <td>2.380</td>\n",
              "      <td>2476.4</td>\n",
              "    </tr>\n",
              "    <tr>\n",
              "      <th>Sep</th>\n",
              "      <td>2017</td>\n",
              "      <td>-0.714772</td>\n",
              "      <td>2.165853</td>\n",
              "      <td>-1.198254</td>\n",
              "      <td>2.645</td>\n",
              "      <td>2476.6</td>\n",
              "    </tr>\n",
              "    <tr>\n",
              "      <th>Oct</th>\n",
              "      <td>2017</td>\n",
              "      <td>-0.710340</td>\n",
              "      <td>2.174257</td>\n",
              "      <td>-1.198254</td>\n",
              "      <td>2.505</td>\n",
              "      <td>2529.1</td>\n",
              "    </tr>\n",
              "    <tr>\n",
              "      <th>Nov</th>\n",
              "      <td>2017</td>\n",
              "      <td>-0.648281</td>\n",
              "      <td>2.191773</td>\n",
              "      <td>-1.198254</td>\n",
              "      <td>2.564</td>\n",
              "      <td>2579.4</td>\n",
              "    </tr>\n",
              "    <tr>\n",
              "      <th>Dec</th>\n",
              "      <td>2017</td>\n",
              "      <td>-0.599520</td>\n",
              "      <td>2.192038</td>\n",
              "      <td>-1.198254</td>\n",
              "      <td>2.477</td>\n",
              "      <td>2673.6</td>\n",
              "    </tr>\n",
              "  </tbody>\n",
              "</table>\n",
              "<p>324 rows × 6 columns</p>\n",
              "</div>\n",
              "      <button class=\"colab-df-convert\" onclick=\"convertToInteractive('df-3ce25db4-e607-4599-ac21-54a29e29b0c4')\"\n",
              "              title=\"Convert this dataframe to an interactive table.\"\n",
              "              style=\"display:none;\">\n",
              "        \n",
              "  <svg xmlns=\"http://www.w3.org/2000/svg\" height=\"24px\"viewBox=\"0 0 24 24\"\n",
              "       width=\"24px\">\n",
              "    <path d=\"M0 0h24v24H0V0z\" fill=\"none\"/>\n",
              "    <path d=\"M18.56 5.44l.94 2.06.94-2.06 2.06-.94-2.06-.94-.94-2.06-.94 2.06-2.06.94zm-11 1L8.5 8.5l.94-2.06 2.06-.94-2.06-.94L8.5 2.5l-.94 2.06-2.06.94zm10 10l.94 2.06.94-2.06 2.06-.94-2.06-.94-.94-2.06-.94 2.06-2.06.94z\"/><path d=\"M17.41 7.96l-1.37-1.37c-.4-.4-.92-.59-1.43-.59-.52 0-1.04.2-1.43.59L10.3 9.45l-7.72 7.72c-.78.78-.78 2.05 0 2.83L4 21.41c.39.39.9.59 1.41.59.51 0 1.02-.2 1.41-.59l7.78-7.78 2.81-2.81c.8-.78.8-2.07 0-2.86zM5.41 20L4 18.59l7.72-7.72 1.47 1.35L5.41 20z\"/>\n",
              "  </svg>\n",
              "      </button>\n",
              "      \n",
              "  <style>\n",
              "    .colab-df-container {\n",
              "      display:flex;\n",
              "      flex-wrap:wrap;\n",
              "      gap: 12px;\n",
              "    }\n",
              "\n",
              "    .colab-df-convert {\n",
              "      background-color: #E8F0FE;\n",
              "      border: none;\n",
              "      border-radius: 50%;\n",
              "      cursor: pointer;\n",
              "      display: none;\n",
              "      fill: #1967D2;\n",
              "      height: 32px;\n",
              "      padding: 0 0 0 0;\n",
              "      width: 32px;\n",
              "    }\n",
              "\n",
              "    .colab-df-convert:hover {\n",
              "      background-color: #E2EBFA;\n",
              "      box-shadow: 0px 1px 2px rgba(60, 64, 67, 0.3), 0px 1px 3px 1px rgba(60, 64, 67, 0.15);\n",
              "      fill: #174EA6;\n",
              "    }\n",
              "\n",
              "    [theme=dark] .colab-df-convert {\n",
              "      background-color: #3B4455;\n",
              "      fill: #D2E3FC;\n",
              "    }\n",
              "\n",
              "    [theme=dark] .colab-df-convert:hover {\n",
              "      background-color: #434B5C;\n",
              "      box-shadow: 0px 1px 3px 1px rgba(0, 0, 0, 0.15);\n",
              "      filter: drop-shadow(0px 1px 2px rgba(0, 0, 0, 0.3));\n",
              "      fill: #FFFFFF;\n",
              "    }\n",
              "  </style>\n",
              "\n",
              "      <script>\n",
              "        const buttonEl =\n",
              "          document.querySelector('#df-3ce25db4-e607-4599-ac21-54a29e29b0c4 button.colab-df-convert');\n",
              "        buttonEl.style.display =\n",
              "          google.colab.kernel.accessAllowed ? 'block' : 'none';\n",
              "\n",
              "        async function convertToInteractive(key) {\n",
              "          const element = document.querySelector('#df-3ce25db4-e607-4599-ac21-54a29e29b0c4');\n",
              "          const dataTable =\n",
              "            await google.colab.kernel.invokeFunction('convertToInteractive',\n",
              "                                                     [key], {});\n",
              "          if (!dataTable) return;\n",
              "\n",
              "          const docLinkHtml = 'Like what you see? Visit the ' +\n",
              "            '<a target=\"_blank\" href=https://colab.research.google.com/notebooks/data_table.ipynb>data table notebook</a>'\n",
              "            + ' to learn more about interactive tables.';\n",
              "          element.innerHTML = '';\n",
              "          dataTable['output_type'] = 'display_data';\n",
              "          await google.colab.output.renderOutput(dataTable, element);\n",
              "          const docLink = document.createElement('div');\n",
              "          docLink.innerHTML = docLinkHtml;\n",
              "          element.appendChild(docLink);\n",
              "        }\n",
              "      </script>\n",
              "    </div>\n",
              "  </div>\n",
              "  "
            ]
          },
          "metadata": {},
          "execution_count": 14
        }
      ]
    },
    {
      "cell_type": "code",
      "source": [
        "# 80% of data as train data and the remaining 20% as test data. \n",
        "# model is trained with train data and the performance is validated with test data.\n",
        "\n",
        "train_size = int(len(df)*0.8)\n",
        "train_dataset, test_dataset = df.iloc[:train_size], df.iloc[train_size:]\n",
        "\n",
        "# Plot train and test data\n",
        "plt.figure(figsize = (10, 6))\n",
        "plt.plot(train_dataset.SP)\n",
        "plt.plot(test_dataset.SP)\n",
        "plt.xlabel('Month')\n",
        "plt.ylabel('S&P 500 Performance')\n",
        "plt.legend(['Train set', 'Test set'], loc='upper right')\n",
        " #plt.savefig('drive/My Drive/Colab Notebooks/LSTM&GRU/2.jpg', format='jpg', dpi=1000)\n",
        "print('Dimension of train data: ',train_dataset.shape)\n",
        "print('Dimension of test data: ', test_dataset.shape)"
      ],
      "metadata": {
        "colab": {
          "base_uri": "https://localhost:8080/",
          "height": 424
        },
        "id": "pMjtG080b85b",
        "outputId": "7ed73f1f-da2f-4a48-aeb5-651652984dd5"
      },
      "execution_count": null,
      "outputs": [
        {
          "output_type": "stream",
          "name": "stdout",
          "text": [
            "Dimension of train data:  (259, 6)\n",
            "Dimension of test data:  (65, 6)\n"
          ]
        },
        {
          "output_type": "display_data",
          "data": {
            "text/plain": [
              "<Figure size 720x432 with 1 Axes>"
            ],
            "image/png": "[encoded data removed]"
          },
          "metadata": {
            "needs_background": "light"
          }
        }
      ]
    },
    {
      "cell_type": "markdown",
      "source": [
        "Split the target variable and dependent variables"
      ],
      "metadata": {
        "id": "i6tF3m9Ol0oU"
      }
    },
    {
      "cell_type": "code",
      "source": [
        "# SP is the target variable(output) and is a function of the input variables\n",
        "# Split train data to X and y\n",
        "X_train = train_dataset.drop('SP', axis = 1)\n",
        "y_train = train_dataset.loc[:,['SP']]\n",
        "\n",
        "# Split test data to X and y\n",
        "X_test = test_dataset.drop('SP', axis = 1)\n",
        "y_test = test_dataset.loc[:,['SP']]"
      ],
      "metadata": {
        "id": "_qiQ1B1jcmsr"
      },
      "execution_count": null,
      "outputs": []
    },
    {
      "cell_type": "markdown",
      "source": [
        "Data Transformation"
      ],
      "metadata": {
        "id": "VH5Qqicnmra_"
      }
    },
    {
      "cell_type": "code",
      "source": [
        "# A good rule of thumb is that normalized data lead to better performance in Neural Networks\n",
        "\n",
        "# Transform X_train, y_train, X_test and y_test\n",
        "\n",
        "# Different scaler for input and output\n",
        "scaler_x = MinMaxScaler(feature_range = (0,1))\n",
        "scaler_y = MinMaxScaler(feature_range = (0,1))\n",
        "\n",
        "# Fit the scaler using available training data\n",
        "input_scaler = scaler_x.fit(X_train)\n",
        "output_scaler = scaler_y.fit(y_train)\n",
        "\n",
        "# Apply the scaler to training data\n",
        "train_y_norm = output_scaler.transform(y_train)\n",
        "train_x_norm = input_scaler.transform(X_train)\n",
        "\n",
        "# Apply the scaler to test data\n",
        "test_y_norm = output_scaler.transform(y_test)\n",
        "test_x_norm = input_scaler.transform(X_test)"
      ],
      "metadata": {
        "id": "zAywB70GmkPJ"
      },
      "execution_count": null,
      "outputs": []
    },
    {
      "cell_type": "markdown",
      "source": [
        "Create a 3D Input Dataset"
      ],
      "metadata": {
        "id": "iuRz5_N0nPij"
      }
    },
    {
      "cell_type": "code",
      "source": [
        "# LSTM, GRU and BiLSTM take a 3D input (num_samples, num_timesteps, num_features). \n",
        "\n",
        "def create_dataset (X, y, time_steps = 1):\n",
        "    Xs, ys = [], []\n",
        "    \n",
        "    for i in range(len(X)-time_steps):\n",
        "        v = X[i:i+time_steps, :]\n",
        "        Xs.append(v)\n",
        "        ys.append(y[i+time_steps])\n",
        "        \n",
        "    return np.array(Xs), np.array(ys)\n",
        "\n",
        "\n",
        "TIME_STEPS = 30\n",
        "\n",
        "X_test, y_test = create_dataset(test_x_norm, test_y_norm, TIME_STEPS)\n",
        "X_train, y_train = create_dataset(train_x_norm, train_y_norm, TIME_STEPS)\n",
        "print('X_train.shape: ', X_test.shape)\n",
        "print('y_train.shape: ', y_train.shape)\n",
        "print('X_test.shape: ', X_test.shape) \n",
        "print('y_test.shape: ', y_train.shape)"
      ],
      "metadata": {
        "colab": {
          "base_uri": "https://localhost:8080/"
        },
        "id": "B7utaXWCnKbx",
        "outputId": "b1a159ec-ac36-4ee2-b410-05d12c7c5df8"
      },
      "execution_count": null,
      "outputs": [
        {
          "output_type": "stream",
          "name": "stdout",
          "text": [
            "X_train.shape:  (35, 30, 5)\n",
            "y_train.shape:  (229, 1)\n",
            "X_test.shape:  (35, 30, 5)\n",
            "y_test.shape:  (229, 1)\n"
          ]
        }
      ]
    },
    {
      "cell_type": "markdown",
      "source": [
        "Create BiLSTM, LSTM and GRU model"
      ],
      "metadata": {
        "id": "0s9SCBB7njFG"
      }
    },
    {
      "cell_type": "code",
      "source": [
        "# The first function, create_model_bilstm, creates a BDLSM and gets the number of units (neurons) in hidden layers. \n",
        "# The second function, create_model, gets two inputs; number of units in hidden layers and model name (LSTM or GRU).\n",
        "\n",
        "# For the sake of simplicity, BiLSTM, LSTM and GRU have 2 hidden layers including 64 neurons and 1 neuron in the output layer.\n",
        "\n",
        "# To make the LSTM and GRU networks robust to changes, the Dropout function is used. Dropout(0.2) randomly drops 20% of units from the network.\n",
        "\n",
        "# Create BiLSTM model\n",
        "def create_model_bilstm(units):\n",
        "    model = Sequential()\n",
        "    # First layer of BiLSTM\n",
        "    model.add(Bidirectional(LSTM(units = units, return_sequences=True), \n",
        "                            input_shape=(X_train.shape[1], X_train.shape[2])))\n",
        "    # Second layer of BiLSTM\n",
        "    model.add(Bidirectional(LSTM(units = units)))\n",
        "    model.add(Dense(1))\n",
        "    #Compile model\n",
        "    model.compile(loss='mse', optimizer='adam')\n",
        "    return model\n",
        "\n",
        "\n",
        "# Create LSTM or GRU model\n",
        "def create_model(units, m):\n",
        "    model = Sequential()\n",
        "    # First layer of LSTM\n",
        "    model.add(m (units = units, return_sequences = True, \n",
        "                 input_shape = [X_train.shape[1], X_train.shape[2]]))\n",
        "    model.add(Dropout(0.2)) \n",
        "    # Second layer of LSTM\n",
        "    model.add(m (units = units))                 \n",
        "    model.add(Dropout(0.2))\n",
        "    model.add(Dense(units = 1)) \n",
        "    #Compile model\n",
        "    model.compile(loss='mse', optimizer='adam')\n",
        "    return model\n",
        "\n",
        "\n",
        "# BiLSTM\n",
        "model_bilstm = create_model_bilstm(64)\n",
        "\n",
        "# GRU and LSTM \n",
        "model_gru = create_model(64, GRU)\n",
        "model_lstm = create_model(64, LSTM)\n"
      ],
      "metadata": {
        "id": "Bq9C6NMnnrKs"
      },
      "execution_count": null,
      "outputs": []
    },
    {
      "cell_type": "markdown",
      "source": [
        "Fit the models"
      ],
      "metadata": {
        "id": "E6IXqXRVowK_"
      }
    },
    {
      "cell_type": "code",
      "source": [
        "#Train the model with train data for 100 epoch and batch_size = 32.\n",
        "# Model uses 20% of train data as validation data. \n",
        "#It is important to set shuffle = False because the order of the data matters in our project.\n",
        "\n",
        "# To avoid overfitting,  early stop is used to stop training when \"val_loss\" has not improved after 10 epochs (patience = 10).\n",
        "\n",
        "# Fit BiLSTM, LSTM and GRU\n",
        "def fit_model(model):\n",
        "    early_stop = keras.callbacks.EarlyStopping(monitor = 'val_loss',\n",
        "                                               patience = 10)\n",
        "\n",
        "    # shuffle = False because the order of the data matters\n",
        "    history = model.fit(X_train, y_train, epochs = 100, validation_split = 0.2,\n",
        "                    batch_size = 32, shuffle = False, callbacks = [early_stop])\n",
        "    return history\n",
        "\n",
        "history_bilstm = fit_model(model_bilstm)\n",
        "history_lstm = fit_model(model_lstm)\n",
        "history_gru = fit_model(model_gru)\n"
      ],
      "metadata": {
        "colab": {
          "base_uri": "https://localhost:8080/"
        },
        "id": "HTnuRW37oraC",
        "outputId": "aa49a836-5740-489f-eb01-844dd262a9f1"
      },
      "execution_count": null,
      "outputs": [
        {
          "output_type": "stream",
          "name": "stdout",
          "text": [
            "Epoch 1/100\n",
            "6/6 [==============================] - 7s 358ms/step - loss: 0.0745 - val_loss: 0.1134\n",
            "Epoch 2/100\n",
            "6/6 [==============================] - 0s 61ms/step - loss: 0.1667 - val_loss: 0.0707\n",
            "Epoch 3/100\n",
            "6/6 [==============================] - 0s 66ms/step - loss: 0.0599 - val_loss: 0.0268\n",
            "Epoch 4/100\n",
            "6/6 [==============================] - 0s 61ms/step - loss: 0.0249 - val_loss: 0.0887\n",
            "Epoch 5/100\n",
            "6/6 [==============================] - 0s 63ms/step - loss: 0.0264 - val_loss: 0.0867\n",
            "Epoch 6/100\n",
            "6/6 [==============================] - 0s 61ms/step - loss: 0.0177 - val_loss: 0.0388\n",
            "Epoch 7/100\n",
            "6/6 [==============================] - 0s 58ms/step - loss: 0.0182 - val_loss: 0.0413\n",
            "Epoch 8/100\n",
            "6/6 [==============================] - 0s 61ms/step - loss: 0.0136 - val_loss: 0.0477\n",
            "Epoch 9/100\n",
            "6/6 [==============================] - 0s 61ms/step - loss: 0.0117 - val_loss: 0.0475\n",
            "Epoch 10/100\n",
            "6/6 [==============================] - 0s 57ms/step - loss: 0.0113 - val_loss: 0.0531\n",
            "Epoch 11/100\n",
            "6/6 [==============================] - 0s 58ms/step - loss: 0.0104 - val_loss: 0.0518\n",
            "Epoch 12/100\n",
            "6/6 [==============================] - 0s 61ms/step - loss: 0.0096 - val_loss: 0.0498\n",
            "Epoch 13/100\n",
            "6/6 [==============================] - 0s 58ms/step - loss: 0.0091 - val_loss: 0.0484\n",
            "Epoch 1/100\n",
            "6/6 [==============================] - 5s 364ms/step - loss: 0.1939 - val_loss: 0.0841\n",
            "Epoch 2/100\n",
            "6/6 [==============================] - 0s 69ms/step - loss: 0.0775 - val_loss: 0.0335\n",
            "Epoch 3/100\n",
            "6/6 [==============================] - 0s 34ms/step - loss: 0.0478 - val_loss: 0.0290\n",
            "Epoch 4/100\n",
            "6/6 [==============================] - 0s 33ms/step - loss: 0.0310 - val_loss: 0.0449\n",
            "Epoch 5/100\n",
            "6/6 [==============================] - 0s 34ms/step - loss: 0.0244 - val_loss: 0.0589\n",
            "Epoch 6/100\n",
            "6/6 [==============================] - 0s 39ms/step - loss: 0.0206 - val_loss: 0.0421\n",
            "Epoch 7/100\n",
            "6/6 [==============================] - 0s 34ms/step - loss: 0.0179 - val_loss: 0.0500\n",
            "Epoch 8/100\n",
            "6/6 [==============================] - 0s 36ms/step - loss: 0.0145 - val_loss: 0.0596\n",
            "Epoch 9/100\n",
            "6/6 [==============================] - 0s 38ms/step - loss: 0.0175 - val_loss: 0.0726\n",
            "Epoch 10/100\n",
            "6/6 [==============================] - 0s 37ms/step - loss: 0.0152 - val_loss: 0.0714\n",
            "Epoch 11/100\n",
            "6/6 [==============================] - 0s 36ms/step - loss: 0.0113 - val_loss: 0.0686\n",
            "Epoch 12/100\n",
            "6/6 [==============================] - 0s 34ms/step - loss: 0.0122 - val_loss: 0.0684\n",
            "Epoch 13/100\n",
            "6/6 [==============================] - 0s 35ms/step - loss: 0.0142 - val_loss: 0.0705\n",
            "Epoch 1/100\n",
            "6/6 [==============================] - 4s 170ms/step - loss: 0.2192 - val_loss: 0.0277\n",
            "Epoch 2/100\n",
            "6/6 [==============================] - 0s 37ms/step - loss: 0.0611 - val_loss: 0.1297\n",
            "Epoch 3/100\n",
            "6/6 [==============================] - 0s 32ms/step - loss: 0.0923 - val_loss: 0.0725\n",
            "Epoch 4/100\n",
            "6/6 [==============================] - 0s 32ms/step - loss: 0.0614 - val_loss: 0.0259\n",
            "Epoch 5/100\n",
            "6/6 [==============================] - 0s 31ms/step - loss: 0.0487 - val_loss: 0.0343\n",
            "Epoch 6/100\n",
            "6/6 [==============================] - 0s 33ms/step - loss: 0.0362 - val_loss: 0.0760\n",
            "Epoch 7/100\n",
            "6/6 [==============================] - 0s 32ms/step - loss: 0.0326 - val_loss: 0.0885\n",
            "Epoch 8/100\n",
            "6/6 [==============================] - 0s 37ms/step - loss: 0.0331 - val_loss: 0.0471\n",
            "Epoch 9/100\n",
            "6/6 [==============================] - 0s 36ms/step - loss: 0.0324 - val_loss: 0.0266\n",
            "Epoch 10/100\n",
            "6/6 [==============================] - 0s 35ms/step - loss: 0.0255 - val_loss: 0.0252\n",
            "Epoch 11/100\n",
            "6/6 [==============================] - 0s 33ms/step - loss: 0.0255 - val_loss: 0.0267\n",
            "Epoch 12/100\n",
            "6/6 [==============================] - 0s 34ms/step - loss: 0.0238 - val_loss: 0.0261\n",
            "Epoch 13/100\n",
            "6/6 [==============================] - 0s 34ms/step - loss: 0.0252 - val_loss: 0.0333\n",
            "Epoch 14/100\n",
            "6/6 [==============================] - 0s 36ms/step - loss: 0.0209 - val_loss: 0.0406\n",
            "Epoch 15/100\n",
            "6/6 [==============================] - 0s 33ms/step - loss: 0.0189 - val_loss: 0.0383\n",
            "Epoch 16/100\n",
            "6/6 [==============================] - 0s 35ms/step - loss: 0.0177 - val_loss: 0.0488\n",
            "Epoch 17/100\n",
            "6/6 [==============================] - 0s 31ms/step - loss: 0.0168 - val_loss: 0.0561\n",
            "Epoch 18/100\n",
            "6/6 [==============================] - 0s 34ms/step - loss: 0.0149 - val_loss: 0.0616\n",
            "Epoch 19/100\n",
            "6/6 [==============================] - 0s 33ms/step - loss: 0.0148 - val_loss: 0.0701\n",
            "Epoch 20/100\n",
            "6/6 [==============================] - 0s 33ms/step - loss: 0.0132 - val_loss: 0.0899\n"
          ]
        }
      ]
    },
    {
      "cell_type": "markdown",
      "source": [
        "Plot train loss versus validation loss"
      ],
      "metadata": {
        "id": "tkmL8RBzpzlm"
      }
    },
    {
      "cell_type": "code",
      "source": [
        "def plot_loss (history, model_name):\n",
        "    plt.figure(figsize = (10, 6))\n",
        "    plt.plot(history.history['loss'])\n",
        "    plt.plot(history.history['val_loss'])\n",
        "    plt.title('Model Train vs Validation Loss for ' + model_name)\n",
        "    plt.ylabel('Loss')\n",
        "    plt.xlabel('epoch')\n",
        "    plt.legend(['Train loss', 'Validation loss'], loc='upper right')\n",
        "    #plt.savefig('C:/Users/nious/Documents/Medium/LSTM&GRU/loss_'+model_name+'.jpg', format='jpg', dpi=1000)\n",
        "\n",
        "plot_loss (history_bilstm, 'BiLSTM')\n",
        "plot_loss (history_lstm, 'LSTM')\n",
        "plot_loss (history_gru, 'GRU')"
      ],
      "metadata": {
        "colab": {
          "base_uri": "https://localhost:8080/",
          "height": 1000
        },
        "id": "YvRvN7DepjR-",
        "outputId": "db0206ab-63a2-425a-d2c6-618f5d7be8e8"
      },
      "execution_count": null,
      "outputs": [
        {
          "output_type": "display_data",
          "data": {
            "text/plain": [
              "<Figure size 720x432 with 1 Axes>"
            ],
            "image/png": "[encoded data removed]"
          },
          "metadata": {
            "needs_background": "light"
          }
        },
        {
          "output_type": "display_data",
          "data": {
            "text/plain": [
              "<Figure size 720x432 with 1 Axes>"
            ],
            "image/png": "[encoded data removed]"
          },
          "metadata": {
            "needs_background": "light"
          }
        },
        {
          "output_type": "display_data",
          "data": {
            "text/plain": [
              "<Figure size 720x432 with 1 Axes>"
            ],
            "image/png": "[encoded data removed]"
          },
          "metadata": {
            "needs_background": "light"
          }
        }
      ]
    },
    {
      "cell_type": "markdown",
      "source": [
        "Inverse target variable for train and test data"
      ],
      "metadata": {
        "id": "oqa_Unx_qGZ7"
      }
    },
    {
      "cell_type": "code",
      "source": [
        "# After building the model, I have to transform the target variable back to original data space for train and test data using scaler_y.inverse_transform.\n",
        "y_test = scaler_y.inverse_transform(y_test)\n",
        "y_train = scaler_y.inverse_transform(y_train)"
      ],
      "metadata": {
        "id": "AnmYEvIkp8wE"
      },
      "execution_count": null,
      "outputs": []
    },
    {
      "cell_type": "code",
      "source": [
        "# Print y_test\n",
        "pd.set_option('display.max_rows', None)\n",
        "print(y_test)"
      ],
      "metadata": {
        "colab": {
          "base_uri": "https://localhost:8080/"
        },
        "id": "n2ketMlKof9H",
        "outputId": "3648dae5-eda8-4b67-92a5-7473526a1cf8"
      },
      "execution_count": null,
      "outputs": [
        {
          "output_type": "stream",
          "name": "stdout",
          "text": [
            "[[2105.2]\n",
            " [2067.6]\n",
            " [2087.4]\n",
            " [2108.6]\n",
            " [2067. ]\n",
            " [2104.5]\n",
            " [1970.1]\n",
            " [1919.7]\n",
            " [2080.8]\n",
            " [2082.9]\n",
            " [2038.2]\n",
            " [1936.9]\n",
            " [1937.1]\n",
            " [2056.6]\n",
            " [2067.2]\n",
            " [2093.9]\n",
            " [2099.3]\n",
            " [2173.1]\n",
            " [2171.3]\n",
            " [2164.3]\n",
            " [2128.7]\n",
            " [2200.2]\n",
            " [2251.6]\n",
            " [2285.6]\n",
            " [2380.1]\n",
            " [2362.3]\n",
            " [2388.5]\n",
            " [2398.4]\n",
            " [2430.1]\n",
            " [2429. ]\n",
            " [2476.4]\n",
            " [2476.6]\n",
            " [2529.1]\n",
            " [2579.4]\n",
            " [2673.6]]\n"
          ]
        }
      ]
    },
    {
      "cell_type": "markdown",
      "source": [
        "Make predictions"
      ],
      "metadata": {
        "id": "Z8ZOxh11qZLT"
      }
    },
    {
      "cell_type": "code",
      "source": [
        "# Let's predict S&P value using BiLSTM, LSTM and GRU models.\n",
        "def prediction(model):\n",
        "    prediction = model.predict(X_test)\n",
        "    prediction = scaler_y.inverse_transform(prediction)\n",
        "    return prediction\n",
        "\n",
        "prediction_bilstm = prediction(model_bilstm)\n",
        "prediction_lstm = prediction(model_lstm)\n",
        "prediction_gru = prediction(model_gru)"
      ],
      "metadata": {
        "id": "eZSlXHsyqYeS"
      },
      "execution_count": null,
      "outputs": []
    },
    {
      "cell_type": "code",
      "source": [
        "# Print GRU predictions\n",
        "prediction_gru"
      ],
      "metadata": {
        "colab": {
          "base_uri": "https://localhost:8080/"
        },
        "id": "cxwd6JSSm24T",
        "outputId": "6937504e-9ae3-46ff-8f00-bf4f493601e3"
      },
      "execution_count": null,
      "outputs": [
        {
          "output_type": "execute_result",
          "data": {
            "text/plain": [
              "array([[1631.6652],\n",
              "       [1677.8578],\n",
              "       [1717.8558],\n",
              "       [1748.6324],\n",
              "       [1771.6617],\n",
              "       [1788.833 ],\n",
              "       [1802.957 ],\n",
              "       [1817.6737],\n",
              "       [1834.0641],\n",
              "       [1851.5972],\n",
              "       [1871.1302],\n",
              "       [1893.9609],\n",
              "       [1922.3613],\n",
              "       [1951.1173],\n",
              "       [1975.2338],\n",
              "       [1997.247 ],\n",
              "       [2011.4716],\n",
              "       [2019.2408],\n",
              "       [2024.8947],\n",
              "       [2030.0269],\n",
              "       [2035.6571],\n",
              "       [2043.9756],\n",
              "       [2053.354 ],\n",
              "       [2061.393 ],\n",
              "       [2072.5754],\n",
              "       [2088.775 ],\n",
              "       [2107.452 ],\n",
              "       [2125.4082],\n",
              "       [2142.2446],\n",
              "       [2158.1218],\n",
              "       [2170.8064],\n",
              "       [2182.302 ],\n",
              "       [2190.3518],\n",
              "       [2197.3552],\n",
              "       [2204.0989]], dtype=float32)"
            ]
          },
          "metadata": {},
          "execution_count": 25
        }
      ]
    },
    {
      "cell_type": "markdown",
      "source": [
        "Plot true future versus prediction"
      ],
      "metadata": {
        "id": "hgscAnD4qvom"
      }
    },
    {
      "cell_type": "code",
      "source": [
        "def plot_future(prediction, model_name, y_test):\n",
        "    \n",
        "    plt.figure(figsize=(10, 6))\n",
        "    \n",
        "    range_future = len(prediction)\n",
        "\n",
        "    plt.plot(np.arange(range_future), np.array(y_test), label='True Future')\n",
        "    plt.plot(np.arange(range_future), np.array(prediction),label='Prediction')\n",
        "\n",
        "    plt.title('True future vs prediction for ' + model_name)\n",
        "    plt.legend(loc='upper left')\n",
        "    plt.xlabel('Month')\n",
        "    plt.ylabel('S&P 500 Performance')\n",
        "    #plt.savefig('C:/Users/nious/Documents/Medium/LSTM&GRU/predic_'+model_name+'.jpg', format='jpg', dpi=1000)\n",
        "    \n",
        "    \n",
        "plot_future(prediction_bilstm, 'BiLSTM', y_test)\n",
        "plot_future(prediction_lstm, 'LSTM', y_test)\n",
        "plot_future(prediction_gru, 'GRU', y_test)"
      ],
      "metadata": {
        "colab": {
          "base_uri": "https://localhost:8080/",
          "height": 1000
        },
        "id": "HW7pcRInquhZ",
        "outputId": "e10d4fa6-68d9-4eb7-8806-9f07cc1a5e84"
      },
      "execution_count": null,
      "outputs": [
        {
          "output_type": "display_data",
          "data": {
            "text/plain": [
              "<Figure size 720x432 with 1 Axes>"
            ],
            "image/png": "[encoded data removed]"
          },
          "metadata": {
            "needs_background": "light"
          }
        },
        {
          "output_type": "display_data",
          "data": {
            "text/plain": [
              "<Figure size 720x432 with 1 Axes>"
            ],
            "image/png": "[encoded data removed]"
          },
          "metadata": {
            "needs_background": "light"
          }
        },
        {
          "output_type": "display_data",
          "data": {
            "text/plain": [
              "<Figure size 720x432 with 1 Axes>"
            ],
            "image/png": "[encoded data removed]"
          },
          "metadata": {
            "needs_background": "light"
          }
        }
      ]
    },
    {
      "cell_type": "markdown",
      "source": [
        "Calculate RMSE and MAE"
      ],
      "metadata": {
        "id": "Yi82bf5urke9"
      }
    },
    {
      "cell_type": "code",
      "source": [
        "# Define a function to calculate MAE and RMSE\n",
        "def evaluate_prediction(predictions, actual, model_name):\n",
        "    errors = predictions - actual\n",
        "    mse = np.square(errors).mean()\n",
        "    rmse = np.sqrt(mse)\n",
        "    mae = np.abs(errors).mean()\n",
        "\n",
        "    print(model_name + ':')\n",
        "    print('Mean Absolute Error: {:.4f}'.format(mae))\n",
        "    print('Root Mean Square Error: {:.4f}'.format(rmse))\n",
        "    print('')\n",
        "\n",
        "\n",
        "evaluate_prediction(prediction_bilstm, y_test, 'Bidirectional LSTM')\n",
        "evaluate_prediction(prediction_lstm, y_test, 'LSTM')\n",
        "evaluate_prediction(prediction_gru, y_test, 'GRU')\n"
      ],
      "metadata": {
        "colab": {
          "base_uri": "https://localhost:8080/"
        },
        "id": "yekoiRfzrHTl",
        "outputId": "d0a4aa3b-15eb-42ca-9bfa-16b53c5c177a"
      },
      "execution_count": null,
      "outputs": [
        {
          "output_type": "stream",
          "name": "stdout",
          "text": [
            "Bidirectional LSTM:\n",
            "Mean Absolute Error: 650.1929\n",
            "Root Mean Square Error: 659.9526\n",
            "\n",
            "LSTM:\n",
            "Mean Absolute Error: 301.9627\n",
            "Root Mean Square Error: 326.6137\n",
            "\n",
            "GRU:\n",
            "Mean Absolute Error: 232.7985\n",
            "Root Mean Square Error: 260.4681\n",
            "\n"
          ]
        }
      ]
    },
    {
      "cell_type": "code",
      "source": [
        "# Coefficient of determination (R-squared)\n",
        "from sklearn.metrics import r2_score\n",
        "score = r2_score(y_test, prediction_gru)\n",
        "print(score)"
      ],
      "metadata": {
        "id": "fZ6ctU2zr1RJ",
        "colab": {
          "base_uri": "https://localhost:8080/"
        },
        "outputId": "b8334858-ee50-4992-dfbf-34b35394baf1"
      },
      "execution_count": null,
      "outputs": [
        {
          "output_type": "stream",
          "name": "stdout",
          "text": [
            "-0.7703520468283538\n"
          ]
        }
      ]
    },
    {
      "cell_type": "code",
      "source": [
        ""
      ],
      "metadata": {
        "id": "Q1a0_vA_7_iC"
      },
      "execution_count": null,
      "outputs": []
    }
  ]
}