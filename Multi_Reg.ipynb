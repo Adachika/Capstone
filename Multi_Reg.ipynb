{
  "cells": [
    {
      "cell_type": "code",
      "execution_count": null,
      "metadata": {
        "id": "AXQjhlM1q0UO"
      },
      "outputs": [],
      "source": [
        "# imports\n",
        "import scipy\n",
        "import tensorflow as tf\n",
        "import pandas as pd\n",
        "import numpy as np\n",
        "\n",
        "from sklearn.preprocessing import MinMaxScaler\n",
        "from sklearn.model_selection import train_test_split\n",
        "\n",
        "from matplotlib import pyplot as plt\n",
        "from IPython.core.pylabtools import figsize\n",
        "\n",
        "from pandas.plotting import register_matplotlib_converters\n",
        "register_matplotlib_converters()\n",
        "import seaborn as sns"
      ]
    },
    {
      "cell_type": "code",
      "execution_count": null,
      "metadata": {
        "id": "SALty9JTr0au"
      },
      "outputs": [],
      "source": [
        "# Set random seed for reproducibility\n",
        "tf.random.set_seed(1234)"
      ]
    },
    {
      "cell_type": "code",
      "execution_count": null,
      "metadata": {
        "colab": {
          "base_uri": "https://localhost:8080/"
        },
        "id": "z8bd0uuWr1BE",
        "outputId": "7c7ee116-045e-41c6-c9f5-27a8c04db385"
      },
      "outputs": [
        {
          "name": "stdout",
          "output_type": "stream",
          "text": [
            "Mounted at /content/drive\n"
          ]
        }
      ],
      "source": [
        "from google.colab import drive\n",
        "drive.mount('/content/drive')"
      ]
    },
    {
      "cell_type": "markdown",
      "metadata": {
        "id": "Xaexkz3usoL8"
      },
      "source": [
        "Data Preprocessing"
      ]
    },
    {
      "cell_type": "code",
      "execution_count": null,
      "metadata": {
        "id": "VfJ2ajJDsN2q"
      },
      "outputs": [],
      "source": [
        "df = pd.read_csv('drive/My Drive/Colab Notebooks/data2.csv')"
      ]
    },
    {
      "cell_type": "code",
      "execution_count": null,
      "metadata": {
        "colab": {
          "base_uri": "https://localhost:8080/",
          "height": 206
        },
        "id": "r3S86ebKswvx",
        "outputId": "aa85fe3c-a344-4f25-b58d-99c8cd12b4ce"
      },
      "outputs": [
        {
          "data": {
            "text/html": [
              "\n",
              "  <div id=\"df-e6c77bb2-8524-4b9a-9d7e-eb8c9d61df3e\">\n",
              "    <div class=\"colab-df-container\">\n",
              "      <div>\n",
              "<style scoped>\n",
              "    .dataframe tbody tr th:only-of-type {\n",
              "        vertical-align: middle;\n",
              "    }\n",
              "\n",
              "    .dataframe tbody tr th {\n",
              "        vertical-align: top;\n",
              "    }\n",
              "\n",
              "    .dataframe thead th {\n",
              "        text-align: right;\n",
              "    }\n",
              "</style>\n",
              "<table border=\"1\" class=\"dataframe\">\n",
              "  <thead>\n",
              "    <tr style=\"text-align: right;\">\n",
              "      <th></th>\n",
              "      <th>Year</th>\n",
              "      <th>Month</th>\n",
              "      <th>time index</th>\n",
              "      <th>FFR</th>\n",
              "      <th>GDP</th>\n",
              "      <th>MS</th>\n",
              "      <th>UI</th>\n",
              "      <th>Gas Price</th>\n",
              "      <th>S&amp;P 500</th>\n",
              "    </tr>\n",
              "  </thead>\n",
              "  <tbody>\n",
              "    <tr>\n",
              "      <th>0</th>\n",
              "      <td>1991</td>\n",
              "      <td>Jan</td>\n",
              "      <td>1</td>\n",
              "      <td>1.545946</td>\n",
              "      <td>-1.589107</td>\n",
              "      <td>-1.150451</td>\n",
              "      <td>0.383277</td>\n",
              "      <td>1.000</td>\n",
              "      <td>343.9</td>\n",
              "    </tr>\n",
              "    <tr>\n",
              "      <th>1</th>\n",
              "      <td>1991</td>\n",
              "      <td>Feb</td>\n",
              "      <td>2</td>\n",
              "      <td>1.488320</td>\n",
              "      <td>-1.589107</td>\n",
              "      <td>-1.145532</td>\n",
              "      <td>0.509800</td>\n",
              "      <td>1.094</td>\n",
              "      <td>367.1</td>\n",
              "    </tr>\n",
              "    <tr>\n",
              "      <th>2</th>\n",
              "      <td>1991</td>\n",
              "      <td>Mar</td>\n",
              "      <td>3</td>\n",
              "      <td>1.395232</td>\n",
              "      <td>-1.566827</td>\n",
              "      <td>-1.141280</td>\n",
              "      <td>0.446539</td>\n",
              "      <td>1.040</td>\n",
              "      <td>375.2</td>\n",
              "    </tr>\n",
              "    <tr>\n",
              "      <th>3</th>\n",
              "      <td>1991</td>\n",
              "      <td>Apr</td>\n",
              "      <td>4</td>\n",
              "      <td>1.337606</td>\n",
              "      <td>-1.566827</td>\n",
              "      <td>-1.137917</td>\n",
              "      <td>0.573061</td>\n",
              "      <td>1.076</td>\n",
              "      <td>375.4</td>\n",
              "    </tr>\n",
              "    <tr>\n",
              "      <th>4</th>\n",
              "      <td>1991</td>\n",
              "      <td>May</td>\n",
              "      <td>5</td>\n",
              "      <td>1.390799</td>\n",
              "      <td>-1.566827</td>\n",
              "      <td>-1.135981</td>\n",
              "      <td>0.573061</td>\n",
              "      <td>1.126</td>\n",
              "      <td>389.8</td>\n",
              "    </tr>\n",
              "  </tbody>\n",
              "</table>\n",
              "</div>\n",
              "      <button class=\"colab-df-convert\" onclick=\"convertToInteractive('df-e6c77bb2-8524-4b9a-9d7e-eb8c9d61df3e')\"\n",
              "              title=\"Convert this dataframe to an interactive table.\"\n",
              "              style=\"display:none;\">\n",
              "        \n",
              "  <svg xmlns=\"http://www.w3.org/2000/svg\" height=\"24px\"viewBox=\"0 0 24 24\"\n",
              "       width=\"24px\">\n",
              "    <path d=\"M0 0h24v24H0V0z\" fill=\"none\"/>\n",
              "    <path d=\"M18.56 5.44l.94 2.06.94-2.06 2.06-.94-2.06-.94-.94-2.06-.94 2.06-2.06.94zm-11 1L8.5 8.5l.94-2.06 2.06-.94-2.06-.94L8.5 2.5l-.94 2.06-2.06.94zm10 10l.94 2.06.94-2.06 2.06-.94-2.06-.94-.94-2.06-.94 2.06-2.06.94z\"/><path d=\"M17.41 7.96l-1.37-1.37c-.4-.4-.92-.59-1.43-.59-.52 0-1.04.2-1.43.59L10.3 9.45l-7.72 7.72c-.78.78-.78 2.05 0 2.83L4 21.41c.39.39.9.59 1.41.59.51 0 1.02-.2 1.41-.59l7.78-7.78 2.81-2.81c.8-.78.8-2.07 0-2.86zM5.41 20L4 18.59l7.72-7.72 1.47 1.35L5.41 20z\"/>\n",
              "  </svg>\n",
              "      </button>\n",
              "      \n",
              "  <style>\n",
              "    .colab-df-container {\n",
              "      display:flex;\n",
              "      flex-wrap:wrap;\n",
              "      gap: 12px;\n",
              "    }\n",
              "\n",
              "    .colab-df-convert {\n",
              "      background-color: #E8F0FE;\n",
              "      border: none;\n",
              "      border-radius: 50%;\n",
              "      cursor: pointer;\n",
              "      display: none;\n",
              "      fill: #1967D2;\n",
              "      height: 32px;\n",
              "      padding: 0 0 0 0;\n",
              "      width: 32px;\n",
              "    }\n",
              "\n",
              "    .colab-df-convert:hover {\n",
              "      background-color: #E2EBFA;\n",
              "      box-shadow: 0px 1px 2px rgba(60, 64, 67, 0.3), 0px 1px 3px 1px rgba(60, 64, 67, 0.15);\n",
              "      fill: #174EA6;\n",
              "    }\n",
              "\n",
              "    [theme=dark] .colab-df-convert {\n",
              "      background-color: #3B4455;\n",
              "      fill: #D2E3FC;\n",
              "    }\n",
              "\n",
              "    [theme=dark] .colab-df-convert:hover {\n",
              "      background-color: #434B5C;\n",
              "      box-shadow: 0px 1px 3px 1px rgba(0, 0, 0, 0.15);\n",
              "      filter: drop-shadow(0px 1px 2px rgba(0, 0, 0, 0.3));\n",
              "      fill: #FFFFFF;\n",
              "    }\n",
              "  </style>\n",
              "\n",
              "      <script>\n",
              "        const buttonEl =\n",
              "          document.querySelector('#df-e6c77bb2-8524-4b9a-9d7e-eb8c9d61df3e button.colab-df-convert');\n",
              "        buttonEl.style.display =\n",
              "          google.colab.kernel.accessAllowed ? 'block' : 'none';\n",
              "\n",
              "        async function convertToInteractive(key) {\n",
              "          const element = document.querySelector('#df-e6c77bb2-8524-4b9a-9d7e-eb8c9d61df3e');\n",
              "          const dataTable =\n",
              "            await google.colab.kernel.invokeFunction('convertToInteractive',\n",
              "                                                     [key], {});\n",
              "          if (!dataTable) return;\n",
              "\n",
              "          const docLinkHtml = 'Like what you see? Visit the ' +\n",
              "            '<a target=\"_blank\" href=https://colab.research.google.com/notebooks/data_table.ipynb>data table notebook</a>'\n",
              "            + ' to learn more about interactive tables.';\n",
              "          element.innerHTML = '';\n",
              "          dataTable['output_type'] = 'display_data';\n",
              "          await google.colab.output.renderOutput(dataTable, element);\n",
              "          const docLink = document.createElement('div');\n",
              "          docLink.innerHTML = docLinkHtml;\n",
              "          element.appendChild(docLink);\n",
              "        }\n",
              "      </script>\n",
              "    </div>\n",
              "  </div>\n",
              "  "
            ],
            "text/plain": [
              "   Year  Month  time index       FFR      GDP         MS       UI   Gas Price  \\\n",
              "0   1991   Jan           1  1.545946 -1.589107 -1.150451  0.383277      1.000   \n",
              "1   1991   Feb           2  1.488320 -1.589107 -1.145532  0.509800      1.094   \n",
              "2   1991   Mar           3  1.395232 -1.566827 -1.141280  0.446539      1.040   \n",
              "3   1991   Apr           4  1.337606 -1.566827 -1.137917  0.573061      1.076   \n",
              "4   1991   May           5  1.390799 -1.566827 -1.135981  0.573061      1.126   \n",
              "\n",
              "   S&P 500  \n",
              "0    343.9  \n",
              "1    367.1  \n",
              "2    375.2  \n",
              "3    375.4  \n",
              "4    389.8  "
            ]
          },
          "execution_count": 5,
          "metadata": {},
          "output_type": "execute_result"
        }
      ],
      "source": [
        "df.head()"
      ]
    },
    {
      "cell_type": "code",
      "execution_count": null,
      "metadata": {
        "id": "2CiN89b8vaBW"
      },
      "outputs": [],
      "source": [
        "# Remove whitespaces\n",
        "df.columns = df.columns.str.strip()"
      ]
    },
    {
      "cell_type": "code",
      "execution_count": null,
      "metadata": {
        "id": "64oUGRyXs1d0"
      },
      "outputs": [],
      "source": [
        "# Drop time index and Year columns\n",
        "df= df.drop(['time index','Year'], axis =1)"
      ]
    },
    {
      "cell_type": "markdown",
      "metadata": {
        "id": "WoqDT691s_68"
      },
      "source": [
        "Multiple Regression (all variables)"
      ]
    },
    {
      "cell_type": "code",
      "execution_count": null,
      "metadata": {
        "colab": {
          "base_uri": "https://localhost:8080/",
          "height": 424
        },
        "id": "wHJvrStUs4Jp",
        "outputId": "1db613e1-d3fa-40ea-caf6-8bd68612918b"
      },
      "outputs": [
        {
          "data": {
            "text/html": [
              "\n",
              "  <div id=\"df-fb9c2a1d-88c2-4a54-8950-a11237871b72\">\n",
              "    <div class=\"colab-df-container\">\n",
              "      <div>\n",
              "<style scoped>\n",
              "    .dataframe tbody tr th:only-of-type {\n",
              "        vertical-align: middle;\n",
              "    }\n",
              "\n",
              "    .dataframe tbody tr th {\n",
              "        vertical-align: top;\n",
              "    }\n",
              "\n",
              "    .dataframe thead th {\n",
              "        text-align: right;\n",
              "    }\n",
              "</style>\n",
              "<table border=\"1\" class=\"dataframe\">\n",
              "  <thead>\n",
              "    <tr style=\"text-align: right;\">\n",
              "      <th></th>\n",
              "      <th>Month</th>\n",
              "      <th>FFR</th>\n",
              "      <th>GDP</th>\n",
              "      <th>MS</th>\n",
              "      <th>UI</th>\n",
              "      <th>GP</th>\n",
              "      <th>SP</th>\n",
              "    </tr>\n",
              "  </thead>\n",
              "  <tbody>\n",
              "    <tr>\n",
              "      <th>0</th>\n",
              "      <td>Jan</td>\n",
              "      <td>1.545946</td>\n",
              "      <td>-1.589107</td>\n",
              "      <td>-1.150451</td>\n",
              "      <td>0.383277</td>\n",
              "      <td>1.000</td>\n",
              "      <td>343.9</td>\n",
              "    </tr>\n",
              "    <tr>\n",
              "      <th>1</th>\n",
              "      <td>Feb</td>\n",
              "      <td>1.488320</td>\n",
              "      <td>-1.589107</td>\n",
              "      <td>-1.145532</td>\n",
              "      <td>0.509800</td>\n",
              "      <td>1.094</td>\n",
              "      <td>367.1</td>\n",
              "    </tr>\n",
              "    <tr>\n",
              "      <th>2</th>\n",
              "      <td>Mar</td>\n",
              "      <td>1.395232</td>\n",
              "      <td>-1.566827</td>\n",
              "      <td>-1.141280</td>\n",
              "      <td>0.446539</td>\n",
              "      <td>1.040</td>\n",
              "      <td>375.2</td>\n",
              "    </tr>\n",
              "    <tr>\n",
              "      <th>3</th>\n",
              "      <td>Apr</td>\n",
              "      <td>1.337606</td>\n",
              "      <td>-1.566827</td>\n",
              "      <td>-1.137917</td>\n",
              "      <td>0.573061</td>\n",
              "      <td>1.076</td>\n",
              "      <td>375.4</td>\n",
              "    </tr>\n",
              "    <tr>\n",
              "      <th>4</th>\n",
              "      <td>May</td>\n",
              "      <td>1.390799</td>\n",
              "      <td>-1.566827</td>\n",
              "      <td>-1.135981</td>\n",
              "      <td>0.573061</td>\n",
              "      <td>1.126</td>\n",
              "      <td>389.8</td>\n",
              "    </tr>\n",
              "    <tr>\n",
              "      <th>...</th>\n",
              "      <td>...</td>\n",
              "      <td>...</td>\n",
              "      <td>...</td>\n",
              "      <td>...</td>\n",
              "      <td>...</td>\n",
              "      <td>...</td>\n",
              "      <td>...</td>\n",
              "    </tr>\n",
              "    <tr>\n",
              "      <th>319</th>\n",
              "      <td>Aug</td>\n",
              "      <td>-0.714772</td>\n",
              "      <td>1.818101</td>\n",
              "      <td>2.148792</td>\n",
              "      <td>-1.134993</td>\n",
              "      <td>2.380</td>\n",
              "      <td>2476.4</td>\n",
              "    </tr>\n",
              "    <tr>\n",
              "      <th>320</th>\n",
              "      <td>Sep</td>\n",
              "      <td>-0.714772</td>\n",
              "      <td>1.815304</td>\n",
              "      <td>2.165853</td>\n",
              "      <td>-1.198254</td>\n",
              "      <td>2.645</td>\n",
              "      <td>2476.6</td>\n",
              "    </tr>\n",
              "    <tr>\n",
              "      <th>321</th>\n",
              "      <td>Oct</td>\n",
              "      <td>-0.710340</td>\n",
              "      <td>1.855704</td>\n",
              "      <td>2.174257</td>\n",
              "      <td>-1.198254</td>\n",
              "      <td>2.505</td>\n",
              "      <td>2529.1</td>\n",
              "    </tr>\n",
              "    <tr>\n",
              "      <th>322</th>\n",
              "      <td>Nov</td>\n",
              "      <td>-0.648281</td>\n",
              "      <td>1.869676</td>\n",
              "      <td>2.191773</td>\n",
              "      <td>-1.198254</td>\n",
              "      <td>2.564</td>\n",
              "      <td>2579.4</td>\n",
              "    </tr>\n",
              "    <tr>\n",
              "      <th>323</th>\n",
              "      <td>Dec</td>\n",
              "      <td>-0.599520</td>\n",
              "      <td>1.882159</td>\n",
              "      <td>2.192038</td>\n",
              "      <td>-1.198254</td>\n",
              "      <td>2.477</td>\n",
              "      <td>2673.6</td>\n",
              "    </tr>\n",
              "  </tbody>\n",
              "</table>\n",
              "<p>324 rows × 7 columns</p>\n",
              "</div>\n",
              "      <button class=\"colab-df-convert\" onclick=\"convertToInteractive('df-fb9c2a1d-88c2-4a54-8950-a11237871b72')\"\n",
              "              title=\"Convert this dataframe to an interactive table.\"\n",
              "              style=\"display:none;\">\n",
              "        \n",
              "  <svg xmlns=\"http://www.w3.org/2000/svg\" height=\"24px\"viewBox=\"0 0 24 24\"\n",
              "       width=\"24px\">\n",
              "    <path d=\"M0 0h24v24H0V0z\" fill=\"none\"/>\n",
              "    <path d=\"M18.56 5.44l.94 2.06.94-2.06 2.06-.94-2.06-.94-.94-2.06-.94 2.06-2.06.94zm-11 1L8.5 8.5l.94-2.06 2.06-.94-2.06-.94L8.5 2.5l-.94 2.06-2.06.94zm10 10l.94 2.06.94-2.06 2.06-.94-2.06-.94-.94-2.06-.94 2.06-2.06.94z\"/><path d=\"M17.41 7.96l-1.37-1.37c-.4-.4-.92-.59-1.43-.59-.52 0-1.04.2-1.43.59L10.3 9.45l-7.72 7.72c-.78.78-.78 2.05 0 2.83L4 21.41c.39.39.9.59 1.41.59.51 0 1.02-.2 1.41-.59l7.78-7.78 2.81-2.81c.8-.78.8-2.07 0-2.86zM5.41 20L4 18.59l7.72-7.72 1.47 1.35L5.41 20z\"/>\n",
              "  </svg>\n",
              "      </button>\n",
              "      \n",
              "  <style>\n",
              "    .colab-df-container {\n",
              "      display:flex;\n",
              "      flex-wrap:wrap;\n",
              "      gap: 12px;\n",
              "    }\n",
              "\n",
              "    .colab-df-convert {\n",
              "      background-color: #E8F0FE;\n",
              "      border: none;\n",
              "      border-radius: 50%;\n",
              "      cursor: pointer;\n",
              "      display: none;\n",
              "      fill: #1967D2;\n",
              "      height: 32px;\n",
              "      padding: 0 0 0 0;\n",
              "      width: 32px;\n",
              "    }\n",
              "\n",
              "    .colab-df-convert:hover {\n",
              "      background-color: #E2EBFA;\n",
              "      box-shadow: 0px 1px 2px rgba(60, 64, 67, 0.3), 0px 1px 3px 1px rgba(60, 64, 67, 0.15);\n",
              "      fill: #174EA6;\n",
              "    }\n",
              "\n",
              "    [theme=dark] .colab-df-convert {\n",
              "      background-color: #3B4455;\n",
              "      fill: #D2E3FC;\n",
              "    }\n",
              "\n",
              "    [theme=dark] .colab-df-convert:hover {\n",
              "      background-color: #434B5C;\n",
              "      box-shadow: 0px 1px 3px 1px rgba(0, 0, 0, 0.15);\n",
              "      filter: drop-shadow(0px 1px 2px rgba(0, 0, 0, 0.3));\n",
              "      fill: #FFFFFF;\n",
              "    }\n",
              "  </style>\n",
              "\n",
              "      <script>\n",
              "        const buttonEl =\n",
              "          document.querySelector('#df-fb9c2a1d-88c2-4a54-8950-a11237871b72 button.colab-df-convert');\n",
              "        buttonEl.style.display =\n",
              "          google.colab.kernel.accessAllowed ? 'block' : 'none';\n",
              "\n",
              "        async function convertToInteractive(key) {\n",
              "          const element = document.querySelector('#df-fb9c2a1d-88c2-4a54-8950-a11237871b72');\n",
              "          const dataTable =\n",
              "            await google.colab.kernel.invokeFunction('convertToInteractive',\n",
              "                                                     [key], {});\n",
              "          if (!dataTable) return;\n",
              "\n",
              "          const docLinkHtml = 'Like what you see? Visit the ' +\n",
              "            '<a target=\"_blank\" href=https://colab.research.google.com/notebooks/data_table.ipynb>data table notebook</a>'\n",
              "            + ' to learn more about interactive tables.';\n",
              "          element.innerHTML = '';\n",
              "          dataTable['output_type'] = 'display_data';\n",
              "          await google.colab.output.renderOutput(dataTable, element);\n",
              "          const docLink = document.createElement('div');\n",
              "          docLink.innerHTML = docLinkHtml;\n",
              "          element.appendChild(docLink);\n",
              "        }\n",
              "      </script>\n",
              "    </div>\n",
              "  </div>\n",
              "  "
            ],
            "text/plain": [
              "    Month       FFR       GDP        MS        UI     GP      SP\n",
              "0     Jan  1.545946 -1.589107 -1.150451  0.383277  1.000   343.9\n",
              "1     Feb  1.488320 -1.589107 -1.145532  0.509800  1.094   367.1\n",
              "2     Mar  1.395232 -1.566827 -1.141280  0.446539  1.040   375.2\n",
              "3     Apr  1.337606 -1.566827 -1.137917  0.573061  1.076   375.4\n",
              "4     May  1.390799 -1.566827 -1.135981  0.573061  1.126   389.8\n",
              "..    ...       ...       ...       ...       ...    ...     ...\n",
              "319   Aug -0.714772  1.818101  2.148792 -1.134993  2.380  2476.4\n",
              "320   Sep -0.714772  1.815304  2.165853 -1.198254  2.645  2476.6\n",
              "321   Oct -0.710340  1.855704  2.174257 -1.198254  2.505  2529.1\n",
              "322   Nov -0.648281  1.869676  2.191773 -1.198254  2.564  2579.4\n",
              "323   Dec -0.599520  1.882159  2.192038 -1.198254  2.477  2673.6\n",
              "\n",
              "[324 rows x 7 columns]"
            ]
          },
          "execution_count": 8,
          "metadata": {},
          "output_type": "execute_result"
        }
      ],
      "source": [
        "df = df.rename(columns = {'FFR':'FFR', 'GDP':'GDP', 'MS':'MS',\n",
        "                          'UI':'UI', 'Gas Price':'GP','S&P 500':'SP'})\n",
        "df"
      ]
    },
    {
      "cell_type": "code",
      "execution_count": null,
      "metadata": {
        "colab": {
          "base_uri": "https://localhost:8080/"
        },
        "id": "xt3jAY70tTMe",
        "outputId": "f2fe7351-2cdf-4d45-c990-f4e28477fee0"
      },
      "outputs": [
        {
          "data": {
            "text/plain": [
              "LinearRegression()"
            ]
          },
          "execution_count": 9,
          "metadata": {},
          "output_type": "execute_result"
        }
      ],
      "source": [
        "from sklearn import linear_model\n",
        "# Specify Dependent and Independent variables\n",
        "X = df[['FFR', 'GDP','MS','UI','GP']]\n",
        "y = df['SP']\n",
        "\n",
        "regr = linear_model.LinearRegression()\n",
        "regr.fit(X, y)"
      ]
    },
    {
      "cell_type": "code",
      "execution_count": null,
      "metadata": {
        "colab": {
          "base_uri": "https://localhost:8080/"
        },
        "id": "wlLmc8eytbxs",
        "outputId": "3e47512e-c3cf-40cf-ff01-530f8339cba0"
      },
      "outputs": [
        {
          "name": "stdout",
          "output_type": "stream",
          "text": [
            "[  38.86014536  220.31891544  313.13798959 -188.78174398  -11.9822075 ]\n"
          ]
        }
      ],
      "source": [
        "# Print Coefficients of regression\n",
        "print(regr.coef_)"
      ]
    },
    {
      "cell_type": "code",
      "execution_count": null,
      "metadata": {
        "colab": {
          "base_uri": "https://localhost:8080/"
        },
        "id": "kRddhRwKthI3",
        "outputId": "6d6a8975-87ae-40d5-a73b-cbcbbe2f6342"
      },
      "outputs": [
        {
          "name": "stdout",
          "output_type": "stream",
          "text": [
            "[1827.29136444]\n"
          ]
        },
        {
          "name": "stderr",
          "output_type": "stream",
          "text": [
            "/usr/local/lib/python3.7/dist-packages/sklearn/base.py:451: UserWarning: X does not have valid feature names, but LinearRegression was fitted with feature names\n",
            "  \"X does not have valid feature names, but\"\n"
          ]
        }
      ],
      "source": [
        "#predict S&P given values for the independent variables\n",
        "predictedSP = regr.predict([[-0.45,1.95,2.25,2.50,2.555]])\n",
        "print(predictedSP)"
      ]
    },
    {
      "cell_type": "markdown",
      "metadata": {
        "id": "7a4VvBxpuMZf"
      },
      "source": [
        "Correlation Matrix and Heat Map"
      ]
    },
    {
      "cell_type": "code",
      "execution_count": null,
      "metadata": {
        "colab": {
          "base_uri": "https://localhost:8080/",
          "height": 237
        },
        "id": "a9MGoq48toFK",
        "outputId": "42dcb61f-c36e-46a6-a331-e47db0dd377c"
      },
      "outputs": [
        {
          "data": {
            "text/html": [
              "\n",
              "  <div id=\"df-c2e02fe2-ef02-40ba-81c1-b696f5ec3823\">\n",
              "    <div class=\"colab-df-container\">\n",
              "      <div>\n",
              "<style scoped>\n",
              "    .dataframe tbody tr th:only-of-type {\n",
              "        vertical-align: middle;\n",
              "    }\n",
              "\n",
              "    .dataframe tbody tr th {\n",
              "        vertical-align: top;\n",
              "    }\n",
              "\n",
              "    .dataframe thead th {\n",
              "        text-align: right;\n",
              "    }\n",
              "</style>\n",
              "<table border=\"1\" class=\"dataframe\">\n",
              "  <thead>\n",
              "    <tr style=\"text-align: right;\">\n",
              "      <th></th>\n",
              "      <th>FFR</th>\n",
              "      <th>GDP</th>\n",
              "      <th>MS</th>\n",
              "      <th>UI</th>\n",
              "      <th>GP</th>\n",
              "      <th>SP</th>\n",
              "    </tr>\n",
              "  </thead>\n",
              "  <tbody>\n",
              "    <tr>\n",
              "      <th>FFR</th>\n",
              "      <td>1.000000</td>\n",
              "      <td>-0.732001</td>\n",
              "      <td>-0.767220</td>\n",
              "      <td>-0.551913</td>\n",
              "      <td>-0.637817</td>\n",
              "      <td>-0.473403</td>\n",
              "    </tr>\n",
              "    <tr>\n",
              "      <th>GDP</th>\n",
              "      <td>-0.732001</td>\n",
              "      <td>1.000000</td>\n",
              "      <td>0.974384</td>\n",
              "      <td>0.087502</td>\n",
              "      <td>0.813867</td>\n",
              "      <td>0.887676</td>\n",
              "    </tr>\n",
              "    <tr>\n",
              "      <th>MS</th>\n",
              "      <td>-0.767220</td>\n",
              "      <td>0.974384</td>\n",
              "      <td>1.000000</td>\n",
              "      <td>0.129799</td>\n",
              "      <td>0.755577</td>\n",
              "      <td>0.875745</td>\n",
              "    </tr>\n",
              "    <tr>\n",
              "      <th>UI</th>\n",
              "      <td>-0.551913</td>\n",
              "      <td>0.087502</td>\n",
              "      <td>0.129799</td>\n",
              "      <td>1.000000</td>\n",
              "      <td>0.356004</td>\n",
              "      <td>-0.290270</td>\n",
              "    </tr>\n",
              "    <tr>\n",
              "      <th>GP</th>\n",
              "      <td>-0.637817</td>\n",
              "      <td>0.813867</td>\n",
              "      <td>0.755577</td>\n",
              "      <td>0.356004</td>\n",
              "      <td>1.000000</td>\n",
              "      <td>0.589144</td>\n",
              "    </tr>\n",
              "    <tr>\n",
              "      <th>SP</th>\n",
              "      <td>-0.473403</td>\n",
              "      <td>0.887676</td>\n",
              "      <td>0.875745</td>\n",
              "      <td>-0.290270</td>\n",
              "      <td>0.589144</td>\n",
              "      <td>1.000000</td>\n",
              "    </tr>\n",
              "  </tbody>\n",
              "</table>\n",
              "</div>\n",
              "      <button class=\"colab-df-convert\" onclick=\"convertToInteractive('df-c2e02fe2-ef02-40ba-81c1-b696f5ec3823')\"\n",
              "              title=\"Convert this dataframe to an interactive table.\"\n",
              "              style=\"display:none;\">\n",
              "        \n",
              "  <svg xmlns=\"http://www.w3.org/2000/svg\" height=\"24px\"viewBox=\"0 0 24 24\"\n",
              "       width=\"24px\">\n",
              "    <path d=\"M0 0h24v24H0V0z\" fill=\"none\"/>\n",
              "    <path d=\"M18.56 5.44l.94 2.06.94-2.06 2.06-.94-2.06-.94-.94-2.06-.94 2.06-2.06.94zm-11 1L8.5 8.5l.94-2.06 2.06-.94-2.06-.94L8.5 2.5l-.94 2.06-2.06.94zm10 10l.94 2.06.94-2.06 2.06-.94-2.06-.94-.94-2.06-.94 2.06-2.06.94z\"/><path d=\"M17.41 7.96l-1.37-1.37c-.4-.4-.92-.59-1.43-.59-.52 0-1.04.2-1.43.59L10.3 9.45l-7.72 7.72c-.78.78-.78 2.05 0 2.83L4 21.41c.39.39.9.59 1.41.59.51 0 1.02-.2 1.41-.59l7.78-7.78 2.81-2.81c.8-.78.8-2.07 0-2.86zM5.41 20L4 18.59l7.72-7.72 1.47 1.35L5.41 20z\"/>\n",
              "  </svg>\n",
              "      </button>\n",
              "      \n",
              "  <style>\n",
              "    .colab-df-container {\n",
              "      display:flex;\n",
              "      flex-wrap:wrap;\n",
              "      gap: 12px;\n",
              "    }\n",
              "\n",
              "    .colab-df-convert {\n",
              "      background-color: #E8F0FE;\n",
              "      border: none;\n",
              "      border-radius: 50%;\n",
              "      cursor: pointer;\n",
              "      display: none;\n",
              "      fill: #1967D2;\n",
              "      height: 32px;\n",
              "      padding: 0 0 0 0;\n",
              "      width: 32px;\n",
              "    }\n",
              "\n",
              "    .colab-df-convert:hover {\n",
              "      background-color: #E2EBFA;\n",
              "      box-shadow: 0px 1px 2px rgba(60, 64, 67, 0.3), 0px 1px 3px 1px rgba(60, 64, 67, 0.15);\n",
              "      fill: #174EA6;\n",
              "    }\n",
              "\n",
              "    [theme=dark] .colab-df-convert {\n",
              "      background-color: #3B4455;\n",
              "      fill: #D2E3FC;\n",
              "    }\n",
              "\n",
              "    [theme=dark] .colab-df-convert:hover {\n",
              "      background-color: #434B5C;\n",
              "      box-shadow: 0px 1px 3px 1px rgba(0, 0, 0, 0.15);\n",
              "      filter: drop-shadow(0px 1px 2px rgba(0, 0, 0, 0.3));\n",
              "      fill: #FFFFFF;\n",
              "    }\n",
              "  </style>\n",
              "\n",
              "      <script>\n",
              "        const buttonEl =\n",
              "          document.querySelector('#df-c2e02fe2-ef02-40ba-81c1-b696f5ec3823 button.colab-df-convert');\n",
              "        buttonEl.style.display =\n",
              "          google.colab.kernel.accessAllowed ? 'block' : 'none';\n",
              "\n",
              "        async function convertToInteractive(key) {\n",
              "          const element = document.querySelector('#df-c2e02fe2-ef02-40ba-81c1-b696f5ec3823');\n",
              "          const dataTable =\n",
              "            await google.colab.kernel.invokeFunction('convertToInteractive',\n",
              "                                                     [key], {});\n",
              "          if (!dataTable) return;\n",
              "\n",
              "          const docLinkHtml = 'Like what you see? Visit the ' +\n",
              "            '<a target=\"_blank\" href=https://colab.research.google.com/notebooks/data_table.ipynb>data table notebook</a>'\n",
              "            + ' to learn more about interactive tables.';\n",
              "          element.innerHTML = '';\n",
              "          dataTable['output_type'] = 'display_data';\n",
              "          await google.colab.output.renderOutput(dataTable, element);\n",
              "          const docLink = document.createElement('div');\n",
              "          docLink.innerHTML = docLinkHtml;\n",
              "          element.appendChild(docLink);\n",
              "        }\n",
              "      </script>\n",
              "    </div>\n",
              "  </div>\n",
              "  "
            ],
            "text/plain": [
              "          FFR       GDP        MS        UI        GP        SP\n",
              "FFR  1.000000 -0.732001 -0.767220 -0.551913 -0.637817 -0.473403\n",
              "GDP -0.732001  1.000000  0.974384  0.087502  0.813867  0.887676\n",
              "MS  -0.767220  0.974384  1.000000  0.129799  0.755577  0.875745\n",
              "UI  -0.551913  0.087502  0.129799  1.000000  0.356004 -0.290270\n",
              "GP  -0.637817  0.813867  0.755577  0.356004  1.000000  0.589144\n",
              "SP  -0.473403  0.887676  0.875745 -0.290270  0.589144  1.000000"
            ]
          },
          "execution_count": 12,
          "metadata": {},
          "output_type": "execute_result"
        }
      ],
      "source": [
        "corrM = df.corr()\n",
        "corrM"
      ]
    },
    {
      "cell_type": "markdown",
      "metadata": {
        "id": "zuit9mkB6QYK"
      },
      "source": [
        "Correlation heat map"
      ]
    },
    {
      "cell_type": "code",
      "execution_count": null,
      "metadata": {
        "colab": {
          "base_uri": "https://localhost:8080/",
          "height": 269
        },
        "id": "Z303se5CuXMe",
        "outputId": "a2079083-2ce6-4cf1-df01-84ab5c2d5eb1"
      },
      "outputs": [
        {
          "data": {
            "image/png": "[encoded data removed]",
            "text/plain": [
              "<Figure size 432x288 with 2 Axes>"
            ]
          },
          "metadata": {
            "needs_background": "light"
          },
          "output_type": "display_data"
        }
      ],
      "source": [
        "sns.heatmap(df.corr());"
      ]
    },
    {
      "cell_type": "markdown",
      "metadata": {
        "id": "4Nrwcjfz8d6q"
      },
      "source": [
        "Variance inflation factor calculation"
      ]
    },
    {
      "cell_type": "code",
      "execution_count": null,
      "metadata": {
        "colab": {
          "base_uri": "https://localhost:8080/"
        },
        "id": "agK4cUfB1F52",
        "outputId": "4fced051-7727-4aed-c998-e11eb677485f"
      },
      "outputs": [
        {
          "data": {
            "text/plain": [
              "FFR     5.567455\n",
              "GDP    41.132547\n",
              "MS     32.293923\n",
              "UI      5.491473\n",
              "GP      5.462534\n",
              "SP     16.874964\n",
              "dtype: float64"
            ]
          },
          "execution_count": 14,
          "metadata": {},
          "output_type": "execute_result"
        }
      ],
      "source": [
        "vifs = pd.Series(np.linalg.inv(df.corr().values).diagonal(), index=corrM.index)\n",
        "vifs"
      ]
    },
    {
      "cell_type": "markdown",
      "metadata": {
        "id": "RQRFQrjV4AY9"
      },
      "source": [
        "VIF calculation for GDP using R^2"
      ]
    },
    {
      "cell_type": "code",
      "execution_count": null,
      "metadata": {
        "colab": {
          "base_uri": "https://localhost:8080/"
        },
        "id": "DbW3iczz-z1U",
        "outputId": "1cac739d-0a85-4e86-c3d6-a6c237ab25bc"
      },
      "outputs": [
        {
          "data": {
            "text/plain": [
              "0.9738425653572046"
            ]
          },
          "execution_count": 15,
          "metadata": {},
          "output_type": "execute_result"
        }
      ],
      "source": [
        "X_2 = df[['FFR','MS','UI','GP']]\n",
        "y_2 = df['GDP']\n",
        "\n",
        "regr = linear_model.LinearRegression()\n",
        "regr.fit(X_2, y_2)\n",
        "R_squared1 = regr.score(X_2, y_2)\n",
        "R_squared1\n"
      ]
    },
    {
      "cell_type": "code",
      "execution_count": null,
      "metadata": {
        "colab": {
          "base_uri": "https://localhost:8080/"
        },
        "id": "YExSyLrRCfWe",
        "outputId": "8e914186-11c2-4b85-8bb7-d696e6465f16"
      },
      "outputs": [
        {
          "data": {
            "text/plain": [
              "38.23004869001677"
            ]
          },
          "execution_count": 16,
          "metadata": {},
          "output_type": "execute_result"
        }
      ],
      "source": [
        "vif1= 1/(1-R_squared1)\n",
        "vif1"
      ]
    },
    {
      "cell_type": "markdown",
      "metadata": {
        "id": "jG-mhXnp4M1M"
      },
      "source": [
        "VIF calculation for MS using R^2"
      ]
    },
    {
      "cell_type": "code",
      "execution_count": null,
      "metadata": {
        "colab": {
          "base_uri": "https://localhost:8080/"
        },
        "id": "tSvIpJAjGV5k",
        "outputId": "4a96898c-f531-4f0c-df79-ff9f53b8e328"
      },
      "outputs": [
        {
          "data": {
            "text/plain": [
              "0.9621651418396006"
            ]
          },
          "execution_count": 17,
          "metadata": {},
          "output_type": "execute_result"
        }
      ],
      "source": [
        "X_3 = df[['FFR','GDP','UI','GP']]\n",
        "y_3 = df['MS']\n",
        "\n",
        "regr = linear_model.LinearRegression()\n",
        "regr.fit(X_3, y_3)\n",
        "R_squared2 = regr.score(X_3, y_3)\n",
        "R_squared2"
      ]
    },
    {
      "cell_type": "code",
      "execution_count": null,
      "metadata": {
        "colab": {
          "base_uri": "https://localhost:8080/"
        },
        "id": "hG8xLpu0Gqle",
        "outputId": "268f23fe-614a-49d0-a81b-9328258419c8"
      },
      "outputs": [
        {
          "data": {
            "text/plain": [
              "26.430652805953123"
            ]
          },
          "execution_count": 18,
          "metadata": {},
          "output_type": "execute_result"
        }
      ],
      "source": [
        "vif2= 1/(1-R_squared2)\n",
        "vif2"
      ]
    },
    {
      "cell_type": "markdown",
      "metadata": {
        "id": "XcjiSV9k4Xug"
      },
      "source": [
        "Multiple Regression (2nd Model)"
      ]
    },
    {
      "cell_type": "code",
      "execution_count": null,
      "metadata": {
        "colab": {
          "base_uri": "https://localhost:8080/"
        },
        "id": "G4dVZiclHBJO",
        "outputId": "1674c59e-34f4-402b-edde-e89ea9c19b7a"
      },
      "outputs": [
        {
          "data": {
            "text/plain": [
              "LinearRegression()"
            ]
          },
          "execution_count": 19,
          "metadata": {},
          "output_type": "execute_result"
        }
      ],
      "source": [
        "X = df[['FFR','MS','UI','GP']]\n",
        "y = df['SP']\n",
        "\n",
        "regr = linear_model.LinearRegression()\n",
        "regr.fit(X, y)"
      ]
    },
    {
      "cell_type": "code",
      "execution_count": null,
      "metadata": {
        "colab": {
          "base_uri": "https://localhost:8080/"
        },
        "id": "JsJ_qB6p4oHY",
        "outputId": "a50859be-77e6-49d6-9272-60f806a5a71c"
      },
      "outputs": [
        {
          "name": "stdout",
          "output_type": "stream",
          "text": [
            "[  19.37161483  474.15710744 -221.38984682   50.24084066]\n"
          ]
        }
      ],
      "source": [
        "# Print Coefficients of regression\n",
        "print(regr.coef_)"
      ]
    },
    {
      "cell_type": "code",
      "execution_count": null,
      "metadata": {
        "colab": {
          "base_uri": "https://localhost:8080/"
        },
        "id": "vVCScfJG4wP_",
        "outputId": "921f8da7-ce65-417e-e2d8-8610008a34a2"
      },
      "outputs": [
        {
          "name": "stdout",
          "output_type": "stream",
          "text": [
            "[1720.22678049]\n"
          ]
        },
        {
          "name": "stderr",
          "output_type": "stream",
          "text": [
            "/usr/local/lib/python3.7/dist-packages/sklearn/base.py:451: UserWarning: X does not have valid feature names, but LinearRegression was fitted with feature names\n",
            "  \"X does not have valid feature names, but\"\n"
          ]
        }
      ],
      "source": [
        "#predict S&P given values for the independent variables\n",
        "predictedSP = regr.predict([[-0.45,2.25,2.50,2.555]])\n",
        "print(predictedSP)"
      ]
    },
    {
      "cell_type": "markdown",
      "metadata": {
        "id": "IrkfzfPXYRpD"
      },
      "source": [
        "Multiple Regression as a machine learning algorithm"
      ]
    },
    {
      "cell_type": "code",
      "execution_count": null,
      "metadata": {
        "id": "Vt6YfPLLYQHZ"
      },
      "outputs": [],
      "source": [
        "X = df[['FFR','MS','UI','GP']]\n",
        "y = df['SP']\n",
        "\n",
        "# split data into train and test\n",
        "X_train, X_test, y_train, y_test = train_test_split(X, y, test_size = 0.2, random_state = 0)"
      ]
    },
    {
      "cell_type": "code",
      "execution_count": null,
      "metadata": {
        "colab": {
          "base_uri": "https://localhost:8080/"
        },
        "id": "zlDjmvORjSa1",
        "outputId": "2390213d-b9b6-4c68-a9ac-d6ef288a3a4e"
      },
      "outputs": [
        {
          "name": "stdout",
          "output_type": "stream",
          "text": [
            "295    1970.1\n",
            "65      670.6\n",
            "15      415.0\n",
            "274    1806.6\n",
            "140     815.3\n",
            "153    1050.7\n",
            "101    1372.7\n",
            "234    1107.5\n",
            "63      654.2\n",
            "159    1107.3\n",
            "184    1270.1\n",
            "181    1280.7\n",
            "97     1238.3\n",
            "219     872.7\n",
            "215     903.0\n",
            "64      669.1\n",
            "26      451.7\n",
            "256    1309.9\n",
            "92     1017.0\n",
            "108    1394.5\n",
            "212    1164.2\n",
            "66      640.0\n",
            "161    1140.8\n",
            "188    1335.8\n",
            "81      914.6\n",
            "167    1211.9\n",
            "179    1248.3\n",
            "305    2099.3\n",
            "7       395.4\n",
            "6       387.8\n",
            "218     793.6\n",
            "259    1406.5\n",
            "22      431.4\n",
            "170    1180.6\n",
            "21      418.7\n",
            "269    1609.8\n",
            "55      561.9\n",
            "12      408.8\n",
            "122    1160.3\n",
            "116    1436.5\n",
            "103    1320.4\n",
            "166    1173.8\n",
            "150     990.3\n",
            "60      636.0\n",
            "136    1067.1\n",
            "142     936.3\n",
            "132    1130.2\n",
            "233    1031.1\n",
            "198    1455.2\n",
            "164    1114.6\n",
            "289    2105.2\n",
            "283    2004.1\n",
            "59      615.9\n",
            "68      687.3\n",
            "52      533.4\n",
            "135    1076.9\n",
            "254    1408.5\n",
            "56      584.4\n",
            "290    2067.6\n",
            "230    1171.2\n",
            "17      408.2\n",
            "1       367.1\n",
            "74      757.1\n",
            "8       387.9\n",
            "209    1276.7\n",
            "Name: SP, dtype: float64\n"
          ]
        }
      ],
      "source": [
        "pd.set_option('display.max_rows', None)\n",
        "print(y_test)"
      ]
    },
    {
      "cell_type": "code",
      "execution_count": null,
      "metadata": {
        "colab": {
          "base_uri": "https://localhost:8080/"
        },
        "id": "MXYSBkgsZ438",
        "outputId": "257fe992-ef96-4aa5-bcf1-7c2ee5bf8119"
      },
      "outputs": [
        {
          "data": {
            "text/plain": [
              "array([2114.72035172,  771.12380606,  401.72784908, 1743.2116705 ,\n",
              "        992.70804458, 1033.40999282, 1038.4219533 ,  977.09579958,\n",
              "        749.81873618, 1103.83915792, 1445.58565451, 1379.73910896,\n",
              "       1023.68636906,  917.54491848, 1090.21280099,  795.34739202,\n",
              "        458.82963357, 1409.38744081,  972.18073999, 1108.22695264,\n",
              "       1344.17595335,  822.64543157, 1133.15468484, 1479.02812395,\n",
              "        931.71342337, 1189.11399792, 1363.59024711, 2226.23196736,\n",
              "        516.97671293,  518.98794166,  957.79577369, 1493.91107489,\n",
              "        423.30534274, 1228.06411688,  426.16997767, 1638.37931157,\n",
              "        735.61223242,  430.63455662, 1128.69621979, 1189.66752745,\n",
              "       1066.46506553, 1181.27151758,  995.32243331,  747.85109718,\n",
              "        954.93564943,  956.93945283,  943.80682182,  983.01515363,\n",
              "       1530.71929237, 1147.67913233, 1993.93174041, 1937.69893999,\n",
              "        736.04119721,  811.76564751,  733.5688324 ,  952.51954388,\n",
              "       1402.75962563,  749.62379687, 2014.58423643,  906.9124575 ,\n",
              "        384.4420683 ,  533.57297332,  843.99572874,  500.43528974,\n",
              "       1445.10472896])"
            ]
          },
          "execution_count": 26,
          "metadata": {},
          "output_type": "execute_result"
        }
      ],
      "source": [
        "# instantiate \n",
        "model =linear_model.LinearRegression()\n",
        "# fit\n",
        "model.fit(X_train, y_train)\n",
        "# predict\n",
        "y_pred = model.predict(X_test)\n",
        "y_pred"
      ]
    },
    {
      "cell_type": "code",
      "execution_count": null,
      "metadata": {
        "colab": {
          "base_uri": "https://localhost:8080/"
        },
        "id": "GqqRvzVT8dpZ",
        "outputId": "c161659c-964d-4077-ef44-acf99c6dfe93"
      },
      "outputs": [
        {
          "name": "stdout",
          "output_type": "stream",
          "text": [
            "1080.7123745888214\n",
            "[  32.17701784  477.12798327 -214.75998073   55.77796656]\n"
          ]
        }
      ],
      "source": [
        "# print y-intercept\n",
        "print(model.intercept_)\n",
        "\n",
        "# Print the beta coeficients in same order as passed\n",
        "print(model.coef_)"
      ]
    },
    {
      "cell_type": "code",
      "execution_count": null,
      "metadata": {
        "colab": {
          "base_uri": "https://localhost:8080/"
        },
        "id": "J6M_EyP4Z6jD",
        "outputId": "008f4259-c7da-49ae-937c-3afc2fc9c496"
      },
      "outputs": [
        {
          "name": "stdout",
          "output_type": "stream",
          "text": [
            "0.9163547691045336\n"
          ]
        }
      ],
      "source": [
        "# model evaluation\n",
        "from sklearn.metrics import r2_score\n",
        "score = r2_score(y_test, y_pred)\n",
        "print(score)"
      ]
    },
    {
      "cell_type": "markdown",
      "metadata": {
        "id": "DnjwU1Jm7BLn"
      },
      "source": [
        "Model Evaluation"
      ]
    },
    {
      "cell_type": "code",
      "execution_count": null,
      "metadata": {
        "id": "AuAKVObF48QW"
      },
      "outputs": [],
      "source": [
        "# Import metrics library\n",
        "from sklearn import metrics\n",
        "\n",
        "# Print result of MAE\n",
        "MAE = metrics.mean_absolute_error(y_test,y_pred)\n",
        "\n",
        "# Print result of MSE\n",
        "MSE = metrics.mean_squared_error(y_test,y_pred)\n",
        "\n",
        "# Print result of RMSE\n",
        "RMSE = np.sqrt(metrics.mean_squared_error(y_test,y_pred))\n"
      ]
    },
    {
      "cell_type": "code",
      "execution_count": null,
      "metadata": {
        "colab": {
          "base_uri": "https://localhost:8080/"
        },
        "id": "6rpsqceZ-L6W",
        "outputId": "3a16947d-b4f6-4c1a-d798-9012a2ff62dd"
      },
      "outputs": [
        {
          "name": "stdout",
          "output_type": "stream",
          "text": [
            "105.82025066319844\n",
            "17390.609564005583\n",
            "131.87346042326175\n"
          ]
        }
      ],
      "source": [
        "print(MAE)\n",
        "print(MSE)\n",
        "print(RMSE)"
      ]
    },
    {
      "cell_type": "code",
      "execution_count": null,
      "metadata": {
        "colab": {
          "base_uri": "https://localhost:8080/",
          "height": 404
        },
        "id": "WumyVHNSPntS",
        "outputId": "e17471a2-5b28-4a75-a4e1-1646e4b0642a"
      },
      "outputs": [
        {
          "data": {
            "image/png": "[encoded data removed]",
            "text/plain": [
              "<Figure size 720x432 with 1 Axes>"
            ]
          },
          "metadata": {
            "needs_background": "light"
          },
          "output_type": "display_data"
        }
      ],
      "source": [
        "def plot_future(prediction, model_name, y_test):\n",
        "    \n",
        "    plt.figure(figsize=(10, 6))\n",
        "    \n",
        "    range_future = len(y_pred)\n",
        "\n",
        "    plt.plot(np.arange(range_future), np.array(y_test), label='True Future')\n",
        "    plt.plot(np.arange(range_future), np.array(y_pred),label='Prediction')\n",
        "\n",
        "    plt.title('True future vs prediction for ' + model_name)\n",
        "    plt.legend(loc='upper left')\n",
        "    plt.xlabel('Month')\n",
        "    plt.ylabel('S&P 500 Performance')\n",
        "    #plt.savefig('C:/Users/nious/Documents/Medium/LSTM&GRU/predic_'+model_name+'.jpg', format='jpg', dpi=1000)\n",
        "    \n",
        "    \n",
        "plot_future(y_pred, 'Multi-Linear Regression', y_test)"
      ]
    },
    {
      "cell_type": "code",
      "execution_count": null,
      "metadata": {
        "id": "b3DKmuwZQpsE"
      },
      "outputs": [],
      "source": []
    }
  ],
  "metadata": {
    "colab": {
      "collapsed_sections": [],
      "name": "capstone_Multi_Reg.ipynb",
      "provenance": []
    },
    "kernelspec": {
      "display_name": "Python 3.8.9 64-bit",
      "language": "python",
      "name": "python3"
    },
    "language_info": {
      "name": "python",
      "version": "3.8.9"
    },
    "vscode": {
      "interpreter": {
        "hash": "31f2aee4e71d21fbe5cf8b01ff0e069b9275f58929596ceb00d14d90e3e16cd6"
      }
    }
  },
  "nbformat": 4,
  "nbformat_minor": 0
}
